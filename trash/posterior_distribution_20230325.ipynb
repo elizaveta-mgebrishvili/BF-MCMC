{
 "cells": [
  {
   "cell_type": "code",
   "execution_count": 1,
   "id": "446eaff2-f03a-44eb-b310-7415b759b4af",
   "metadata": {
    "tags": []
   },
   "outputs": [
    {
     "name": "stderr",
     "output_type": "stream",
     "text": [
      "WARNING (pytensor.configdefaults): g++ not available, if using conda: `conda install m2w64-toolchain`\n",
      "WARNING (pytensor.configdefaults): g++ not detected!  PyTensor will be unable to compile C-implementations and will default to Python. Performance may be severely degraded. To remove this warning, set PyTensor flags cxx to an empty string.\n",
      "WARNING (pytensor.tensor.blas): Using NumPy C-API based implementation for BLAS functions.\n",
      "WARNING (theano.configdefaults): g++ not available, if using conda: `conda install m2w64-toolchain`\n",
      "C:\\Users\\emgebrishvili\\AppData\\Local\\Programs\\Python\\Python310\\lib\\site-packages\\theano\\configdefaults.py:560: UserWarning: DeprecationWarning: there is no c++ compiler.This is deprecated and with Theano 0.11 a c++ compiler will be mandatory\n",
      "  warnings.warn(\"DeprecationWarning: there is no c++ compiler.\"\n",
      "WARNING (theano.configdefaults): g++ not detected ! Theano will be unable to execute optimized C-implementations (for both CPU and GPU) and will default to Python implementations. Performance will be severely degraded. To remove this warning, set Theano flags cxx to an empty string.\n",
      "WARNING (theano.tensor.blas): Using NumPy C-API based implementation for BLAS functions.\n"
     ]
    },
    {
     "name": "stdout",
     "output_type": "stream",
     "text": [
      "Running on PyMC v5.1.2\n"
     ]
    }
   ],
   "source": [
    "import arviz as az\n",
    "import IPython\n",
    "import matplotlib\n",
    "import matplotlib.pyplot as plt\n",
    "import numpy as np\n",
    "import pymc as pm\n",
    "import pytensor\n",
    "import pytensor.tensor as pt\n",
    "from pycalphad import Database, equilibrium\n",
    "from pycalphad import variables as v\n",
    "import pandas as pd\n",
    "import theano\n",
    "theano.config.exception_verbosity = 'high'\n",
    "print(f\"Running on PyMC v{pm.__version__}\")"
   ]
  },
  {
   "cell_type": "code",
   "execution_count": 2,
   "id": "0fdb8f34-2cf3-4669-a377-5b0ef35b69bd",
   "metadata": {
    "tags": []
   },
   "outputs": [],
   "source": [
    "def from_xarray_to_pandas(xarray_data, phase_str):\n",
    "    cr_tuple = xarray_data.X.sel(component = 'CR').data[0][0]\n",
    "    phase_tuple = xarray_data.Phase.data[0][0]\n",
    "    t_tuple = xarray_data.T.data\n",
    "    \n",
    "    df_res = pd.DataFrame()\n",
    "    df_res['T'] = ''\n",
    "    df_res['phase'] = ''\n",
    "    df_res['cr_conc'] = ''\n",
    "    \n",
    "    df = pd.DataFrame()\n",
    "    df['T'] = t_tuple\n",
    "    df['phase_1'] = ''\n",
    "    df['phase_2'] = ''\n",
    "    df['phase_3'] = ''\n",
    "    df['cr_conc_1'] = ''\n",
    "    df['cr_conc_2'] = ''\n",
    "    df['cr_conc_3'] = ''\n",
    "    \n",
    "    # print(t_tuple, len(t_tuple))\n",
    "    for i in range(len(t_tuple)):\n",
    "        df.iloc[i, df.columns.get_loc('phase_1')] = phase_tuple[i][0][0]\n",
    "        df.iloc[i, df.columns.get_loc('phase_2')] = phase_tuple[i][0][1]\n",
    "        df.iloc[i, df.columns.get_loc('phase_3')] = phase_tuple[i][0][2]\n",
    "        df.iloc[i, df.columns.get_loc('cr_conc_1')] = cr_tuple[i][0][0]\n",
    "        df.iloc[i, df.columns.get_loc('cr_conc_2')] = cr_tuple[i][0][1]\n",
    "        df.iloc[i, df.columns.get_loc('cr_conc_3')] = cr_tuple[i][0][2]\n",
    "    \n",
    "    df_1 = df[(df['phase_1'] == phase_str)]\n",
    "    df_1 = df_1[['phase_1', 'cr_conc_1', 'T']]\n",
    "    df_1.rename(columns = {'phase_1':'phase', 'cr_conc_1':'cr_conc'}, inplace = True)\n",
    "    \n",
    "    df_2 = df[(df['phase_2'] == phase_str)]\n",
    "    df_2 = df_2[['phase_2', 'cr_conc_2', 'T']]\n",
    "    df_2.rename(columns = {'phase_2':'phase', 'cr_conc_2':'cr_conc'}, inplace = True)\n",
    "    \n",
    "    df_res = pd.concat([df_1, df_2])\n",
    "    \n",
    "    return df_res"
   ]
  },
  {
   "cell_type": "code",
   "execution_count": 3,
   "id": "b51b39a2-919a-46f3-a75e-b7f6f03ad2c6",
   "metadata": {},
   "outputs": [],
   "source": [
    "сс10 = \"tdbs/CoCr-01Oik_with_new_functions.tdb\"\n",
    "# сс18 = \"tdbs/CoCr-18Cac.tdb\"\n",
    "db10 = Database(сс10)"
   ]
  },
  {
   "cell_type": "code",
   "execution_count": 4,
   "id": "793e2f13-d8c3-4b4f-ab9a-79d0c617689a",
   "metadata": {},
   "outputs": [],
   "source": [
    "phases10 = list(db10.phases.keys())\n",
    "press = 101325\n",
    "elements = ['CR', 'CO', 'VA']\n",
    "el_cnt = 1"
   ]
  },
  {
   "cell_type": "code",
   "execution_count": 5,
   "id": "90213117-67f5-4073-b885-1cbd47231a49",
   "metadata": {},
   "outputs": [
    {
     "data": {
      "text/plain": [
       "['LIQUID', 'FCC_A1', 'BCC_A2', 'HCP_A3', 'SIGMA_OLD']"
      ]
     },
     "execution_count": 5,
     "metadata": {},
     "output_type": "execute_result"
    }
   ],
   "source": [
    "phases10"
   ]
  },
  {
   "cell_type": "code",
   "execution_count": 6,
   "id": "8c7b3820-6666-41aa-8b8b-679fdd1cbeb2",
   "metadata": {
    "tags": []
   },
   "outputs": [
    {
     "data": {
      "text/html": [
       "<div>\n",
       "<style scoped>\n",
       "    .dataframe tbody tr th:only-of-type {\n",
       "        vertical-align: middle;\n",
       "    }\n",
       "\n",
       "    .dataframe tbody tr th {\n",
       "        vertical-align: top;\n",
       "    }\n",
       "\n",
       "    .dataframe thead th {\n",
       "        text-align: right;\n",
       "    }\n",
       "</style>\n",
       "<table border=\"1\" class=\"dataframe\">\n",
       "  <thead>\n",
       "    <tr style=\"text-align: right;\">\n",
       "      <th></th>\n",
       "      <th>index</th>\n",
       "      <th>cr_conc</th>\n",
       "      <th>T</th>\n",
       "      <th>phase</th>\n",
       "    </tr>\n",
       "  </thead>\n",
       "  <tbody>\n",
       "    <tr>\n",
       "      <th>0</th>\n",
       "      <td>6</td>\n",
       "      <td>0.532019</td>\n",
       "      <td>1321.35</td>\n",
       "      <td>sigma_old</td>\n",
       "    </tr>\n",
       "    <tr>\n",
       "      <th>1</th>\n",
       "      <td>7</td>\n",
       "      <td>0.542469</td>\n",
       "      <td>1226.97</td>\n",
       "      <td>sigma_old</td>\n",
       "    </tr>\n",
       "    <tr>\n",
       "      <th>2</th>\n",
       "      <td>8</td>\n",
       "      <td>0.547749</td>\n",
       "      <td>1471.91</td>\n",
       "      <td>sigma_old</td>\n",
       "    </tr>\n",
       "    <tr>\n",
       "      <th>3</th>\n",
       "      <td>9</td>\n",
       "      <td>0.554050</td>\n",
       "      <td>1370.79</td>\n",
       "      <td>sigma_old</td>\n",
       "    </tr>\n",
       "    <tr>\n",
       "      <th>4</th>\n",
       "      <td>10</td>\n",
       "      <td>0.556156</td>\n",
       "      <td>1269.66</td>\n",
       "      <td>sigma_old</td>\n",
       "    </tr>\n",
       "    <tr>\n",
       "      <th>5</th>\n",
       "      <td>11</td>\n",
       "      <td>0.559283</td>\n",
       "      <td>1422.47</td>\n",
       "      <td>sigma_old</td>\n",
       "    </tr>\n",
       "  </tbody>\n",
       "</table>\n",
       "</div>"
      ],
      "text/plain": [
       "   index   cr_conc        T      phase\n",
       "0      6  0.532019  1321.35  sigma_old\n",
       "1      7  0.542469  1226.97  sigma_old\n",
       "2      8  0.547749  1471.91  sigma_old\n",
       "3      9  0.554050  1370.79  sigma_old\n",
       "4     10  0.556156  1269.66  sigma_old\n",
       "5     11  0.559283  1422.47  sigma_old"
      ]
     },
     "execution_count": 6,
     "metadata": {},
     "output_type": "execute_result"
    }
   ],
   "source": [
    "df_sigma_fcc = pd.read_excel('emp_data/sigma_fcc_allibert.xls')\n",
    "# df_sigma_bcc = pd.read_excel('emp_data/sigma_bcc_allibert.xls')\n",
    "# df_sigma_hcp = pd.read_excel('emp_data/sigma_hcp_allibert.xls')\n",
    "\n",
    "df_sigma_fcc['T'] = df_sigma_fcc['T'].round(2)\n",
    "df_sigma_fcc['cr_conc'] = df_sigma_fcc['cr_conc'].round(6)\n",
    "df_sigma_fcc_sigma_old = df_sigma_fcc[(df_sigma_fcc['phase'] == 'sigma_old')].reset_index()\n",
    "df_sigma_fcc_sigma_old"
   ]
  },
  {
   "cell_type": "code",
   "execution_count": 7,
   "id": "6c09a2f2-c4a4-45a0-a68c-db8849df3e0d",
   "metadata": {
    "tags": []
   },
   "outputs": [],
   "source": [
    "# define a pytensor Op for our likelihood function\n",
    "phase = 'SIGMA_OLD'\n",
    "class LogLike(pt.Op):\n",
    "#     определяем тип входящих и исходящих данных\n",
    "    itypes = [pt.dvector]  # expects a vector of parameter values when called\n",
    "    otypes = [pt.dscalar]  # outputs a single scalar value (the log likelihood)\n",
    "\n",
    "    def __init__(self, conditions):\n",
    "        \n",
    "        # add inputs as class attributes\n",
    "        self.conditions = conditions\n",
    "        # self.x = x\n",
    "        # self.sigma = sigma\n",
    "\n",
    "    def perform(self, node, inputs, outputs):\n",
    "        (theta,) = inputs  # this will contain my variables\n",
    "        COCRCO_0, COCRCO_1, COCRCR_0, COCRCR_1 = theta\n",
    "        N_parameters = {\n",
    "         'SIGMA_OLD_COCRCO_0' : COCRCO_0\n",
    "         ,'SIGMA_OLD_COCRCO_1': COCRCO_1\n",
    "         ,'SIGMA_OLD_COCRCR_0': COCRCR_0\n",
    "         ,'SIGMA_OLD_COCRCR_1': COCRCR_1\n",
    "        }\n",
    "        \n",
    "        outputs[0][0] = from_xarray_to_pandas(equilibrium(db10\n",
    "                                                                , elements\n",
    "                                                                , phases10\n",
    "                                                                , self.conditions\n",
    "                                                                , parameters = N_parameters\n",
    "                                                               )\n",
    "                                                    ,'SIGMA_OLD')['cr_conc'].astype(float)\n",
    "                             "
   ]
  },
  {
   "cell_type": "code",
   "execution_count": 45,
   "id": "dd5538fb-a6bd-4876-9c5d-5a3a36cfa09f",
   "metadata": {
    "tags": []
   },
   "outputs": [],
   "source": [
    "# T = df_sigma_fcc_sigma_old['T'].to_numpy()\n",
    "# conditions = {v.X('CR'):0.5, v.P: 101325, v.T: T, v.N: el_cnt}\n",
    "# logl = LogLike(conditions)\n",
    "\n",
    "# met_mod = pm.Model()\n",
    "# # use PyMC to sampler from log-likelihood\n",
    "# with met_mod:\n",
    "#     # uniform priors on m and c\n",
    "#     COCRCO_0 = pm.Normal(\"SIGMA_OLD_COCRCO_0\", mu=-103863.0, sigma=1)\n",
    "#     COCRCO_1 = pm.Normal(\"SIGMA_OLD_COCRCO_1\", mu=47.47, sigma=1)\n",
    "#     COCRCR_0 = pm.Normal(\"SIGMA_OLD_COCRCR_0\", mu=-248108.8, sigma=1)\n",
    "#     COCRCR_1 = pm.Normal(\"SIGMA_OLD_COCRCR_1\", mu=79.12, sigma=1) \n",
    "\n",
    "#     # convert m and c to a tensor vector\n",
    "#     theta_mod = pt.as_tensor_variable([COCRCO_0, COCRCO_1, COCRCR_0, COCRCR_1])\n",
    "#     # print('theta:', theta)\n",
    "\n",
    "#     # use a Potential to \"call\" the Op and include it in the logp computation\n",
    "#     # pm.Potential(\"equilibrium\", logl(theta_mod))\n",
    "#     y_obs = logl(theta_mod)\n",
    "#     mod_like = pm.Normal(\"likelihood\", mu=y_obs, observed=df_sigma_fcc_sigma_old['cr_conc'].to_numpy())\n",
    "    \n",
    "#     # Use custom number of draws to replace the HMC based defaults\n",
    "#     idata_mh_metmod = pm.sample(draws=1000, tune=1000) #, step = pm.Metropolis()\n",
    "\n",
    "# # plot the traces\n",
    "# az.plot_trace(idata_mh_metmod);"
   ]
  },
  {
   "cell_type": "code",
   "execution_count": 69,
   "id": "b8fd6a52-4229-466a-9d6e-35ea3dbd012b",
   "metadata": {
    "tags": []
   },
   "outputs": [],
   "source": [
    "df_sigma_fcc_sigma_old = df_sigma_fcc_sigma_old.sort_values('T')\n",
    "T = df_sigma_fcc_sigma_old['T'].to_numpy()\n",
    "y_emp = df_sigma_fcc_sigma_old['cr_conc'].values\n",
    "conditions = {v.X('CR'):0.5, v.P: 101325, v.T: T, v.N: el_cnt}\n",
    "logl = LogLike(conditions)\n",
    "\n",
    "met_mod = pm.Model()\n",
    "# use PyMC to sampler from log-likelihood\n",
    "with met_mod:\n",
    "    # uniform priors on m and c\n",
    "    COCRCO_0 = pm.Normal(\"SIGMA_OLD_COCRCO_0\", mu=-103863.0, sigma=1)\n",
    "    COCRCO_1 = pm.Normal(\"SIGMA_OLD_COCRCO_1\", mu=47.47, sigma=1)\n",
    "    COCRCR_0 = pm.Normal(\"SIGMA_OLD_COCRCR_0\", mu=-248108.8, sigma=1)\n",
    "    COCRCR_1 = pm.Normal(\"SIGMA_OLD_COCRCR_1\", mu=79.12, sigma=1) \n",
    "\n",
    "    # convert m and c to a tensor vector\n",
    "    theta_mod = pt.as_tensor_variable([COCRCO_0, COCRCO_1, COCRCR_0, COCRCR_1])\n",
    "    # print('theta:', theta)\n",
    "\n",
    "    # use a Potential to \"call\" the Op and include it in the logp computation\n",
    "    y_obs = pm.Potential(name = \"equilibrium\", var = logl(theta_mod))\n",
    "    # без этой строчки: ValueError: The truth value of an array with more than one element is ambiguous. Use a.any() or a.all()\n",
    "    # с ней: HINT: Use the PyTensor flag `exception_verbosity=high` for a debug print-out and storage map footprint of this Apply node.\n",
    "    mod_like = pm.Normal(\"likelihood\", mu=y_obs, observed=y_emp)\n",
    "    \n",
    "    # Use custom number of draws to replace the HMC based defaults\n",
    "    # trace_mod = pm.sample(draws=500, tune=200, step = pm.Metropolis()) #, step = pm.Metropolis()\n",
    "\n",
    "# plot the traces\n",
    "# az.plot_trace(idata_mh_metmod);\n"
   ]
  },
  {
   "cell_type": "code",
   "execution_count": 71,
   "id": "6995f577-f350-402d-a673-27fbb1457157",
   "metadata": {
    "tags": []
   },
   "outputs": [
    {
     "data": {
      "text/plain": [
       "array([0.542469, 0.556156, 0.532019, 0.55405 , 0.559283, 0.547749])"
      ]
     },
     "execution_count": 71,
     "metadata": {},
     "output_type": "execute_result"
    }
   ],
   "source": [
    "# y_emp = df_sigma_fcc_sigma_old['cr_conc'].values.tolist()\n",
    "y_emp"
   ]
  },
  {
   "cell_type": "code",
   "execution_count": 72,
   "id": "9c6f87b1-ff3d-4b8a-b28e-d06040ee556f",
   "metadata": {
    "tags": []
   },
   "outputs": [
    {
     "data": {
      "text/plain": [
       "0    0.542220\n",
       "1    0.543646\n",
       "2    0.549322\n",
       "3    0.555933\n",
       "4    0.562622\n",
       "5    0.568853\n",
       "Name: cr_conc, dtype: float64"
      ]
     },
     "execution_count": 72,
     "metadata": {},
     "output_type": "execute_result"
    }
   ],
   "source": [
    "y_obs.eval()"
   ]
  },
  {
   "cell_type": "code",
   "execution_count": 73,
   "id": "3042c7c3-4879-4c7a-a16d-dbe5de6ad345",
   "metadata": {
    "tags": []
   },
   "outputs": [
    {
     "data": {
      "text/latex": [
       "$\\text{equilibrium} \\sim \\operatorname{Potential}(f(\\text{SIGMA_OLD_COCRCR_1},~\\text{SIGMA_OLD_COCRCR_0},~\\text{SIGMA_OLD_COCRCO_1},~\\text{SIGMA_OLD_COCRCO_0}))$"
      ],
      "text/plain": [
       "equilibrium ~ Potential(f(SIGMA_OLD_COCRCR_1, SIGMA_OLD_COCRCR_0, SIGMA_OLD_COCRCO_1, SIGMA_OLD_COCRCO_0))"
      ]
     },
     "execution_count": 73,
     "metadata": {},
     "output_type": "execute_result"
    }
   ],
   "source": [
    "y_obs"
   ]
  },
  {
   "cell_type": "code",
   "execution_count": 74,
   "id": "2e2953b6-29ad-4b28-a91d-2a300273e30b",
   "metadata": {
    "tags": []
   },
   "outputs": [
    {
     "data": {
      "text/latex": [
       "$\\text{likelihood} \\sim \\operatorname{N}(\\text{equilibrium},~1)$"
      ],
      "text/plain": [
       "likelihood ~ N(equilibrium, 1)"
      ]
     },
     "execution_count": 74,
     "metadata": {},
     "output_type": "execute_result"
    }
   ],
   "source": [
    "mod_like"
   ]
  },
  {
   "cell_type": "code",
   "execution_count": 75,
   "id": "08664816-7018-4d17-a131-c6da50f10301",
   "metadata": {
    "tags": []
   },
   "outputs": [
    {
     "data": {
      "text/plain": [
       "array([ 1.35389735, -2.48271093,  0.53172799,  1.21669426,  0.97802627,\n",
       "       -0.01328443])"
      ]
     },
     "execution_count": 75,
     "metadata": {},
     "output_type": "execute_result"
    }
   ],
   "source": [
    "mod_like.eval()"
   ]
  },
  {
   "cell_type": "code",
   "execution_count": 70,
   "id": "bc3184ae-4f6d-4640-9eec-10103a7e968a",
   "metadata": {
    "tags": []
   },
   "outputs": [
    {
     "ename": "ValueError",
     "evalue": "The truth value of an array with more than one element is ambiguous. Use a.any() or a.all()",
     "output_type": "error",
     "traceback": [
      "\u001b[1;31m---------------------------------------------------------------------------\u001b[0m",
      "\u001b[1;31mValueError\u001b[0m                                Traceback (most recent call last)",
      "Cell \u001b[1;32mIn[70], line 3\u001b[0m\n\u001b[0;32m      1\u001b[0m \u001b[38;5;28;01mwith\u001b[39;00m met_mod:\n\u001b[0;32m      2\u001b[0m     \u001b[38;5;66;03m# Use custom number of draws to replace the HMC based defaults\u001b[39;00m\n\u001b[1;32m----> 3\u001b[0m     idata_mh_metmod \u001b[38;5;241m=\u001b[39m \u001b[43mpm\u001b[49m\u001b[38;5;241;43m.\u001b[39;49m\u001b[43msample\u001b[49m\u001b[43m(\u001b[49m\u001b[43mdraws\u001b[49m\u001b[38;5;241;43m=\u001b[39;49m\u001b[38;5;241;43m5000\u001b[39;49m\u001b[43m,\u001b[49m\u001b[43m \u001b[49m\u001b[43mtune\u001b[49m\u001b[38;5;241;43m=\u001b[39;49m\u001b[38;5;241;43m2000\u001b[39;49m\u001b[43m)\u001b[49m \u001b[38;5;66;03m#, step = pm.Metropolis()\u001b[39;00m\n",
      "File \u001b[1;32m~\\AppData\\Local\\Programs\\Python\\Python310\\lib\\site-packages\\pymc\\sampling\\mcmc.py:619\u001b[0m, in \u001b[0;36msample\u001b[1;34m(draws, tune, chains, cores, random_seed, progressbar, step, nuts_sampler, initvals, init, jitter_max_retries, n_init, trace, discard_tuned_samples, compute_convergence_checks, keep_warning_stat, return_inferencedata, idata_kwargs, nuts_sampler_kwargs, callback, mp_ctx, model, **kwargs)\u001b[0m\n\u001b[0;32m    617\u001b[0m ip: Dict[\u001b[38;5;28mstr\u001b[39m, np\u001b[38;5;241m.\u001b[39mndarray]\n\u001b[0;32m    618\u001b[0m \u001b[38;5;28;01mfor\u001b[39;00m ip \u001b[38;5;129;01min\u001b[39;00m initial_points:\n\u001b[1;32m--> 619\u001b[0m     \u001b[43mmodel\u001b[49m\u001b[38;5;241;43m.\u001b[39;49m\u001b[43mcheck_start_vals\u001b[49m\u001b[43m(\u001b[49m\u001b[43mip\u001b[49m\u001b[43m)\u001b[49m\n\u001b[0;32m    620\u001b[0m     _check_start_shape(model, ip)\n\u001b[0;32m    622\u001b[0m \u001b[38;5;66;03m# Create trace backends for each chain\u001b[39;00m\n",
      "File \u001b[1;32m~\\AppData\\Local\\Programs\\Python\\Python310\\lib\\site-packages\\pymc\\model.py:1778\u001b[0m, in \u001b[0;36mModel.check_start_vals\u001b[1;34m(self, start)\u001b[0m\n\u001b[0;32m   1771\u001b[0m     \u001b[38;5;28;01mraise\u001b[39;00m \u001b[38;5;167;01mKeyError\u001b[39;00m(\n\u001b[0;32m   1772\u001b[0m         \u001b[38;5;124m\"\u001b[39m\u001b[38;5;124mSome start parameters do not appear in the model!\u001b[39m\u001b[38;5;130;01m\\n\u001b[39;00m\u001b[38;5;124m\"\u001b[39m\n\u001b[0;32m   1773\u001b[0m         \u001b[38;5;124mf\u001b[39m\u001b[38;5;124m\"\u001b[39m\u001b[38;5;124mValid keys are: \u001b[39m\u001b[38;5;132;01m{\u001b[39;00mvalid_keys\u001b[38;5;132;01m}\u001b[39;00m\u001b[38;5;124m, but \u001b[39m\u001b[38;5;132;01m{\u001b[39;00mextra_keys\u001b[38;5;132;01m}\u001b[39;00m\u001b[38;5;124m was supplied\u001b[39m\u001b[38;5;124m\"\u001b[39m\n\u001b[0;32m   1774\u001b[0m     )\n\u001b[0;32m   1776\u001b[0m initial_eval \u001b[38;5;241m=\u001b[39m \u001b[38;5;28mself\u001b[39m\u001b[38;5;241m.\u001b[39mpoint_logps(point\u001b[38;5;241m=\u001b[39melem)\n\u001b[1;32m-> 1778\u001b[0m \u001b[38;5;28;01mif\u001b[39;00m \u001b[38;5;129;01mnot\u001b[39;00m \u001b[38;5;28;43mall\u001b[39;49m\u001b[43m(\u001b[49m\u001b[43mnp\u001b[49m\u001b[38;5;241;43m.\u001b[39;49m\u001b[43misfinite\u001b[49m\u001b[43m(\u001b[49m\u001b[43mv\u001b[49m\u001b[43m)\u001b[49m\u001b[43m \u001b[49m\u001b[38;5;28;43;01mfor\u001b[39;49;00m\u001b[43m \u001b[49m\u001b[43mv\u001b[49m\u001b[43m \u001b[49m\u001b[38;5;129;43;01min\u001b[39;49;00m\u001b[43m \u001b[49m\u001b[43minitial_eval\u001b[49m\u001b[38;5;241;43m.\u001b[39;49m\u001b[43mvalues\u001b[49m\u001b[43m(\u001b[49m\u001b[43m)\u001b[49m\u001b[43m)\u001b[49m:\n\u001b[0;32m   1779\u001b[0m     \u001b[38;5;28;01mraise\u001b[39;00m SamplingError(\n\u001b[0;32m   1780\u001b[0m         \u001b[38;5;124m\"\u001b[39m\u001b[38;5;124mInitial evaluation of model at starting point failed!\u001b[39m\u001b[38;5;130;01m\\n\u001b[39;00m\u001b[38;5;124m\"\u001b[39m\n\u001b[0;32m   1781\u001b[0m         \u001b[38;5;124mf\u001b[39m\u001b[38;5;124m\"\u001b[39m\u001b[38;5;124mStarting values:\u001b[39m\u001b[38;5;130;01m\\n\u001b[39;00m\u001b[38;5;132;01m{\u001b[39;00melem\u001b[38;5;132;01m}\u001b[39;00m\u001b[38;5;130;01m\\n\u001b[39;00m\u001b[38;5;130;01m\\n\u001b[39;00m\u001b[38;5;124m\"\u001b[39m\n\u001b[0;32m   1782\u001b[0m         \u001b[38;5;124mf\u001b[39m\u001b[38;5;124m\"\u001b[39m\u001b[38;5;124mInitial evaluation results:\u001b[39m\u001b[38;5;130;01m\\n\u001b[39;00m\u001b[38;5;132;01m{\u001b[39;00minitial_eval\u001b[38;5;132;01m}\u001b[39;00m\u001b[38;5;124m\"\u001b[39m\n\u001b[0;32m   1783\u001b[0m     )\n",
      "\u001b[1;31mValueError\u001b[0m: The truth value of an array with more than one element is ambiguous. Use a.any() or a.all()"
     ]
    }
   ],
   "source": [
    "with met_mod:\n",
    "    # Use custom number of draws to replace the HMC based defaults\n",
    "    idata_mh_metmod = pm.sample(draws=5000, tune=2000) #, step = pm.Metropolis()"
   ]
  }
 ],
 "metadata": {
  "kernelspec": {
   "display_name": "Python 3 (ipykernel)",
   "language": "python",
   "name": "python3"
  },
  "language_info": {
   "codemirror_mode": {
    "name": "ipython",
    "version": 3
   },
   "file_extension": ".py",
   "mimetype": "text/x-python",
   "name": "python",
   "nbconvert_exporter": "python",
   "pygments_lexer": "ipython3",
   "version": "3.10.10"
  }
 },
 "nbformat": 4,
 "nbformat_minor": 5
}
