{
 "cells": [
  {
   "attachments": {},
   "cell_type": "markdown",
   "metadata": {},
   "source": [
    "# Подгружаем библиотеки и данные"
   ]
  },
  {
   "cell_type": "code",
   "execution_count": 1,
   "metadata": {},
   "outputs": [
    {
     "name": "stderr",
     "output_type": "stream",
     "text": [
      "WARNING (pytensor.tensor.blas): Using NumPy C-API based implementation for BLAS functions.\n",
      "WARNING (aesara.tensor.blas): Using NumPy C-API based implementation for BLAS functions.\n"
     ]
    },
    {
     "name": "stdout",
     "output_type": "stream",
     "text": [
      "Running on PyMC v5.3.1\n",
      "Running on NumPy v1.22.1\n",
      "Running on ArviZ v0.15.1\n"
     ]
    }
   ],
   "source": [
    "import matplotlib.pyplot as plt\n",
    "import pandas as pd\n",
    "import numpy as np\n",
    "import sympy\n",
    "import datetime\n",
    "\n",
    "# для расчетов над tdb\n",
    "from pycalphad import Database\n",
    "\n",
    "# для MCMC расчетов\n",
    "import pymc as pm  # пакет для MCMC расчетов \n",
    "import arviz as az # пакет для работы с типом данных arviz\n",
    "import aesara\n",
    "import scipy\n",
    "import seaborn as sns\n",
    "\n",
    "# пути к tdb\n",
    "db18 = Database('tdbs/CoCr-18Cac_with_new_functions.tdb')\n",
    "db10 = Database('tdbs/CoCr-01Oik_with_new_functions.tdb')\n",
    "\n",
    "# пути к опытным данным\n",
    "path_sigma_fcc = 'emp_data/sigma_fcc_allibert.xls'\n",
    "path_sigma_hcp = 'emp_data/sigma_hcp_allibert.xls'\n",
    "path_bcc = 'emp_data/sigma_bcc_allibert.xls'\n",
    "\n",
    "# подгрузка и преобразование опытных данных при концентрации хрома 0.5\n",
    "df_sigma_fcc = pd.read_excel(path_sigma_fcc)\n",
    "df_sigma_hcp = pd.read_excel(path_sigma_hcp)\n",
    "\n",
    "df_hcp_fcc = pd.concat([df_sigma_fcc, df_sigma_hcp])\n",
    "\n",
    "df_hcp_fcc['T'] = df_hcp_fcc['T'].round(2)\n",
    "df_hcp_fcc['cr_conc'] = df_hcp_fcc['cr_conc'].round(6)\n",
    "df_hcp_fcc = df_hcp_fcc[(df_hcp_fcc['phase'] == 'sigma_old')].reset_index()\n",
    "df_hcp_fcc.sort_values('T', inplace=True)\n",
    "\n",
    "y_obs_05 = df_hcp_fcc['cr_conc'].values\n",
    "t_05 = df_hcp_fcc['T'].to_numpy()\n",
    "\n",
    "# подгрузка и преобразование опытных данных при концентрации хрома 0.75\n",
    "df_bcc = pd.read_excel(path_bcc)\n",
    "\n",
    "df_bcc['T'] = df_bcc['T'].round(2)\n",
    "df_bcc['cr_conc'] = df_bcc['cr_conc'].round(6)\n",
    "df_bcc = df_bcc[(df_bcc['phase'] == 'sigma_old')].reset_index()\n",
    "df_bcc.sort_values('T', inplace=True)\n",
    "\n",
    "y_obs_75 = df_bcc['cr_conc'].values\n",
    "t_75 = df_bcc['T'].to_numpy()\n",
    "\n",
    "# подгрузка и преобразование расчетных данных\n",
    "trace18 = az.from_json('calc_res/trace_cocr18_2Sx700x1000x2_20230509.json')\n",
    "ppc18 = az.from_json('calc_res/ppc_cocr18_2Sx700x1000x2_20230509.json')\n",
    "pp18 = az.from_json('calc_res/pp_cocr18_2Sx2000_20230509.json')\n",
    "main18 = trace18.extend(ppc18)\n",
    "par_list18 = ['GSCRCO1', 'GSCOCRCO1', 'GSCOCRCO2', 'GSCRCO2', 'GSCOCR1',  'GSCOCR2', 'GSCOCR3']\n",
    "\n",
    "trace10 = az.from_json('calc_res/trace_cocr10_2Sx700x1000x4.json')\n",
    "ppc10 = az.from_json('calc_res/ppc_cocr10_2Sx700x1000x4.json')\n",
    "pp10 = az.from_json('calc_res/pp_cocr10_2Sx4000.json')\n",
    "main10 = trace10.extend(ppc10)\n",
    "par_list10 = ['SIGMA_OLD_COCRCO_0', 'SIGMA_OLD_COCRCO_1', 'SIGMA_OLD_COCRCR_0', 'SIGMA_OLD_COCRCR_1']\n",
    "\n",
    "\n",
    "print(f\"Running on PyMC v{pm.__version__}\") # 5.3.1 or 5.1.2\n",
    "print(f\"Running on NumPy v{np.__version__}\") # 1.22.1\n",
    "print(f\"Running on ArviZ v{az.__version__}\") # 0.12.1"
   ]
  },
  {
   "attachments": {},
   "cell_type": "markdown",
   "metadata": {},
   "source": [
    "# Определяем функции"
   ]
  },
  {
   "cell_type": "code",
   "execution_count": 2,
   "metadata": {},
   "outputs": [],
   "source": [
    "# запись словаря со значениями параметров по tdb\n",
    "def from_piecewise_to_dict(db, parameters_list):\n",
    "    import sympy\n",
    "    full_par_dict = db.symbols\n",
    "    tdb_par_dict = dict()\n",
    "\n",
    "    for par in parameters_list:\n",
    "        tdb_par_dict[par] = np.float32(full_par_dict[par].args_as_sympy()[0])\n",
    "    return tdb_par_dict\n",
    "\n",
    "# собираем цепи в одну для каждого параметра, словарь\n",
    "def chains_concatenate(traces, parameters_list):\n",
    "    # создаем словарь с распределениями параметров\n",
    "    par_chains_dict = dict()\n",
    "    for par in parameters_list:\n",
    "        par_chains_dict[par] = np.float32(np.concatenate(traces.posterior.variables[par]))\n",
    "    \n",
    "    # вычисляем объем каждого сэмпла\n",
    "    chains_num = traces.sample_stats.chain.data.shape\n",
    "    draws_num = traces.sample_stats.draw.data.shape\n",
    "    num_points = chains_num[0]*draws_num[0]\n",
    "    \n",
    "    return par_chains_dict\n",
    "\n",
    "def chain_size(traces):\n",
    "    # создаем словарь с распределениями параметров\n",
    "    chains_num = traces.sample_stats.chain.data.shape\n",
    "    draws_num = traces.sample_stats.draw.data.shape\n",
    "    num_points = chains_num[0]*draws_num[0]\n",
    "    \n",
    "    return num_points\n",
    "\n",
    "# для каждого распределения параметра считаем распределение квадратов отклонений от значения в tdb\n",
    "def mse_dictribution_dict(par_chains_dict, tdb_par_dict, par_list):\n",
    "    mse_par_dict = dict()\n",
    "\n",
    "    for par in par_list:\n",
    "        mse_par_dict[par] = np.float_power(np.subtract(par_chains_dict[par], tdb_par_dict[par]), 2)\n",
    "\n",
    "    return mse_par_dict\n",
    "\n",
    "# выдает словарь где для каждой температуры есть распределение предсказанных для нее значений\n",
    "def from_ppc_to_temp_dict(ppc, var_name_str):\n",
    "    yt_dict = dict()\n",
    "    ppc_conc = np.concatenate(ppc.posterior_predictive.data_vars[var_name_str].data)\n",
    "    t_num = ppc_conc.shape[1]\n",
    "    p_num = ppc_conc.shape[0]\n",
    "    \n",
    "    for i in range(t_num):\n",
    "        i_list = []\n",
    "        \n",
    "        for j in range(p_num):\n",
    "            i_list.append(ppc_conc[j][i])\n",
    "\n",
    "        yt_dict[i] = i_list # key = индекс температуры в T\n",
    "    return yt_dict\n",
    "\n",
    "# выдает словари с аопстериорной вероятностью каждого параметра и с логарифмом вероятности\n",
    "def ppp_and_lnppp_dict_calc(di, par_list, mse_par_dict, num):\n",
    "    import scipy\n",
    "\n",
    "    ppp_dict = dict()\n",
    "    ln_ppp_dict = dict()\n",
    "    di = 0.000001\n",
    "    # num = len(mse_par_dict[0])\n",
    "\n",
    "    for par in par_list:\n",
    "        list_cnt = [x for x in mse_par_dict[par] if x <= di]\n",
    "\n",
    "        if len(list_cnt) == 0:\n",
    "            print(par)\n",
    "            mean = np.mean(mse_par_dict[par])\n",
    "            std = np.std(mse_par_dict[par])\n",
    "            # не подходит для любого параметра, только для норм распределнного\n",
    "            ppp_dict[par] = scipy.stats.norm(mean, std).pdf(di)\n",
    "        else:\n",
    "            # print(par)\n",
    "            # print(len(list_cnt))\n",
    "            # print(num)\n",
    "            ppp_dict[par] = len(list_cnt)/num\n",
    "\n",
    "        ln_ppp_dict[par] = np.log(ppp_dict[par])\n",
    "\n",
    "    return ln_ppp_dict, ppp_dict\n",
    "\n",
    "# вычисление логарифма апостериорной вероятности модели на основе словаря\n",
    "def model_lnpp_calc(par_list, ln_ppp_dict):\n",
    "    ppp = 0\n",
    "\n",
    "    for par in par_list:\n",
    "        ppp += ln_ppp_dict[par]\n",
    "    return ppp"
   ]
  },
  {
   "attachments": {},
   "cell_type": "markdown",
   "metadata": {},
   "source": [
    "# Считаем метрики"
   ]
  },
  {
   "cell_type": "code",
   "execution_count": 3,
   "metadata": {},
   "outputs": [
    {
     "name": "stdout",
     "output_type": "stream",
     "text": [
      "SIGMA_OLD_COCRCO_1\n",
      "SIGMA_OLD_COCRCR_1\n"
     ]
    }
   ],
   "source": [
    "tdb_par_dict10 = from_piecewise_to_dict(db10, par_list10)\n",
    "tdb_par_dict18 = from_piecewise_to_dict(db18, par_list18)\n",
    "\n",
    "par_dict10 = chains_concatenate(trace10, par_list10)\n",
    "par_dict18 = chains_concatenate(trace18, par_list18)\n",
    "\n",
    "num10 = chain_size(trace10)\n",
    "num18 = chain_size(trace18)\n",
    "\n",
    "mse_par_dict10 = mse_dictribution_dict(par_dict10, tdb_par_dict10, par_list10)\n",
    "mse_par_dict18 = mse_dictribution_dict(par_dict18, tdb_par_dict18, par_list18)\n",
    "\n",
    "ln_ppp_dict10, ppp_dict10 = ppp_and_lnppp_dict_calc(0.000001,par_list10, mse_par_dict10, num10)\n",
    "ln_ppp_dict18, ppp_dict18 = ppp_and_lnppp_dict_calc(0.000001,par_list18, mse_par_dict18, num18)"
   ]
  },
  {
   "attachments": {},
   "cell_type": "markdown",
   "metadata": {},
   "source": [
    "## Сравнение по отношению апостериорных вероятностей"
   ]
  },
  {
   "attachments": {},
   "cell_type": "markdown",
   "metadata": {},
   "source": [
    "Апостериорная вероятность $$P(M|y) = \\sum_{i}{ln(P(\\theta_i|y))} = \\sum_{i}{ln(\\frac{m_{\\theta_i}}{n})}$$\n",
    "где \\\n",
    "$m_{\\theta_i}$ - число точек в распределении квадратов отклонения апостерниорных значений параметра $\\theta_i$ от значения параметра в модели, которое вошло в допустимый диапазон, то есть меньше или равно  0.00001\\\n",
    "$n$ - общее число точек в апостериорном распределении параметра\\\n",
    "$i$ - число параметров модели\n",
    "\n",
    "Если мощность множества точек, вошедших в допустимый диапазон, равно 0, то для вычисления $\\frac{m_{\\theta_i}}{n}$ использовалась функция библиотеки scipy:\n",
    "\n",
    "```scipy.stats.norm(mean, std).pdf(0.00001) ```\\\n",
    "где ```mean``` - среднее значение в распределении квадратов отклонений параметра, а ```std``` - стандартное отклонение\n",
    "\n",
    "Таким образом, удалось расчитать логарифм вероятности для каждого параметра"
   ]
  },
  {
   "cell_type": "code",
   "execution_count": 4,
   "metadata": {},
   "outputs": [
    {
     "name": "stdout",
     "output_type": "stream",
     "text": [
      "ln posterior probability of 10 model:-71.16073516665647\n",
      "ln posterior probability of 18 model:-1.005843517326468\n"
     ]
    }
   ],
   "source": [
    "pp10 = model_lnpp_calc(par_list10, ln_ppp_dict10)\n",
    "pp18 = model_lnpp_calc(par_list18, ln_ppp_dict18)\n",
    "print(f'ln posterior probability of 10 model:{pp10}')\n",
    "print(f'ln posterior probability of 18 model:{pp18}')"
   ]
  },
  {
   "cell_type": "code",
   "execution_count": 5,
   "metadata": {},
   "outputs": [
    {
     "data": {
      "text/plain": [
       "2.9368537624578374e+30"
      ]
     },
     "execution_count": 5,
     "metadata": {},
     "output_type": "execute_result"
    }
   ],
   "source": [
    "# отношение полученных значений - целевая метрика\n",
    "pp_comp = np.exp(pp18 - pp10)\n",
    "pp_comp"
   ]
  },
  {
   "cell_type": "code",
   "execution_count": 6,
   "metadata": {},
   "outputs": [
    {
     "data": {
      "text/plain": [
       "3.4050044056776777e-31"
      ]
     },
     "execution_count": 6,
     "metadata": {},
     "output_type": "execute_result"
    }
   ],
   "source": [
    "pp_comp = np.exp(pp10 - pp18)\n",
    "pp_comp"
   ]
  },
  {
   "attachments": {},
   "cell_type": "markdown",
   "metadata": {},
   "source": [
    "## Вывод\n",
    "Так как числа получились очень маленькими/большими, удобнее посмотреть на степени:\n",
    "$e^{-71}$ < $e^{-1}$, следовательно, 10 модель сильно хуже, чем 18"
   ]
  },
  {
   "attachments": {},
   "cell_type": "markdown",
   "metadata": {},
   "source": [
    "## Сравнение по WAIC"
   ]
  },
  {
   "cell_type": "code",
   "execution_count": 7,
   "metadata": {},
   "outputs": [
    {
     "name": "stdout",
     "output_type": "stream",
     "text": [
      "waic for y_norm_05 model 10: 2405.2353845254406\n",
      "waic for y_norm_05 model 18: 10629.097527046823\n",
      "waic for y_norm_75 model 10: 7047.67048888046\n",
      "waic for y_norm_75 model 18: 261193005.57875085\n"
     ]
    },
    {
     "name": "stderr",
     "output_type": "stream",
     "text": [
      "c:\\Users\\emgebrishvili\\AppData\\Local\\Programs\\Python\\Python310\\lib\\site-packages\\arviz\\stats\\stats.py:1645: UserWarning: For one or more samples the posterior variance of the log predictive densities exceeds 0.4. This could be indication of WAIC starting to fail. \n",
      "See http://arxiv.org/abs/1507.04544 for details\n",
      "  warnings.warn(\n",
      "c:\\Users\\emgebrishvili\\AppData\\Local\\Programs\\Python\\Python310\\lib\\site-packages\\arviz\\stats\\stats.py:1645: UserWarning: For one or more samples the posterior variance of the log predictive densities exceeds 0.4. This could be indication of WAIC starting to fail. \n",
      "See http://arxiv.org/abs/1507.04544 for details\n",
      "  warnings.warn(\n"
     ]
    }
   ],
   "source": [
    "t1005 = az.waic(trace10, var_name='y_norm_05', pointwise=True)\n",
    "waic1005 = -2*t1005.elpd_waic\n",
    "t1805 = az.waic(trace18, var_name='y_norm_05', pointwise=True)\n",
    "waic1805 = -2*t1805.elpd_waic\n",
    "print(f'waic for y_norm_05 model 10: {waic1005}')\n",
    "print(f'waic for y_norm_05 model 18: {waic1805}')\n",
    "t1075 = az.waic(trace10, var_name='y_norm_75', pointwise=True)\n",
    "waic1075 = -2*t1075.elpd_waic\n",
    "t1875 = az.waic(trace18, var_name='y_norm_75', pointwise=True)\n",
    "waic1875 = -2*t1875.elpd_waic\n",
    "print(f'waic for y_norm_75 model 10: {waic1075}')\n",
    "print(f'waic for y_norm_75 model 18: {waic1875}')"
   ]
  },
  {
   "attachments": {},
   "cell_type": "markdown",
   "metadata": {},
   "source": [
    "## Вывод\n",
    "10 модель лучше"
   ]
  },
  {
   "attachments": {},
   "cell_type": "markdown",
   "metadata": {},
   "source": [
    "## Сравнение по LOO"
   ]
  },
  {
   "cell_type": "code",
   "execution_count": 8,
   "metadata": {},
   "outputs": [
    {
     "name": "stdout",
     "output_type": "stream",
     "text": [
      "loo for y_norm_05 model 10: 2354.025375142557\n",
      "loo for y_norm_05 model 18: 10629.097917254556\n",
      "loo for y_norm_75 model 10: 6825.6981248636475\n",
      "loo for y_norm_75 model 18: 261193005.5788179\n"
     ]
    },
    {
     "name": "stderr",
     "output_type": "stream",
     "text": [
      "c:\\Users\\emgebrishvili\\AppData\\Local\\Programs\\Python\\Python310\\lib\\site-packages\\arviz\\stats\\stats.py:803: UserWarning: Estimated shape parameter of Pareto distribution is greater than 0.7 for one or more samples. You should consider using a more robust model, this is because importance sampling is less likely to work well if the marginal posterior and LOO posterior are very different. This is more likely to happen with a non-robust model and highly influential observations.\n",
      "  warnings.warn(\n",
      "c:\\Users\\emgebrishvili\\AppData\\Local\\Programs\\Python\\Python310\\lib\\site-packages\\arviz\\stats\\stats.py:803: UserWarning: Estimated shape parameter of Pareto distribution is greater than 0.7 for one or more samples. You should consider using a more robust model, this is because importance sampling is less likely to work well if the marginal posterior and LOO posterior are very different. This is more likely to happen with a non-robust model and highly influential observations.\n",
      "  warnings.warn(\n",
      "c:\\Users\\emgebrishvili\\AppData\\Local\\Programs\\Python\\Python310\\lib\\site-packages\\arviz\\stats\\stats.py:803: UserWarning: Estimated shape parameter of Pareto distribution is greater than 0.7 for one or more samples. You should consider using a more robust model, this is because importance sampling is less likely to work well if the marginal posterior and LOO posterior are very different. This is more likely to happen with a non-robust model and highly influential observations.\n",
      "  warnings.warn(\n"
     ]
    }
   ],
   "source": [
    "l0510 = az.loo(trace10, var_name='y_norm_05', pointwise=True)\n",
    "loo0510 = -2*l0510.elpd_loo\n",
    "print(f'loo for y_norm_05 model 10: {loo0510}')\n",
    "l0518 = az.loo(trace18, var_name='y_norm_05', pointwise=True)\n",
    "loo0518 = -2*l0518.elpd_loo\n",
    "print(f'loo for y_norm_05 model 18: {loo0518}')\n",
    "l7510 = az.loo(trace10, var_name='y_norm_75', pointwise=True)\n",
    "loo7510 = -2*l7510.elpd_loo\n",
    "print(f'loo for y_norm_75 model 10: {loo7510}')\n",
    "l7518 = az.loo(trace18, var_name='y_norm_75', pointwise=True)\n",
    "loo7518 = -2*l7518.elpd_loo\n",
    "print(f'loo for y_norm_75 model 18: {loo7518}')\n"
   ]
  },
  {
   "attachments": {},
   "cell_type": "markdown",
   "metadata": {},
   "source": [
    "## Вывод\n",
    "10 модель лучше"
   ]
  },
  {
   "attachments": {},
   "cell_type": "markdown",
   "metadata": {},
   "source": [
    "## Наложение ppc"
   ]
  },
  {
   "cell_type": "code",
   "execution_count": 9,
   "metadata": {},
   "outputs": [
    {
     "data": {
      "text/plain": [
       "[]"
      ]
     },
     "execution_count": 9,
     "metadata": {},
     "output_type": "execute_result"
    },
    {
     "data": {
      "image/png": "[encoded data removed]",
      "text/plain": [
       "<Figure size 900x600 with 1 Axes>"
      ]
     },
     "metadata": {},
     "output_type": "display_data"
    }
   ],
   "source": [
    "_, ax = plt.subplots(figsize=(9, 6))\n",
    "\n",
    "bins = np.linspace(0.5, 0.6, 8)\n",
    "ax = az.plot_dist(\n",
    "    ppc10.posterior_predictive['y_norm_05'].mean(\"y_norm_05_dim_0\"),\n",
    "    label=\"model_10\",\n",
    "    kind=\"hist\",\n",
    "    hist_kwargs={\"alpha\": 0.5, \"bins\": bins},\n",
    ")\n",
    "ax = az.plot_dist(\n",
    "    ppc18.posterior_predictive[\"y_norm_05\"].mean(\"y_norm_05_dim_0\"),\n",
    "    label=\"model_18\",\n",
    "    color=\"C1\",\n",
    "    kind=\"hist\",\n",
    "    hist_kwargs={\"alpha\": 0.5, \"bins\": bins},\n",
    "    ax=ax,\n",
    ")\n",
    "ax.legend()\n",
    "ax.set_xlabel(\"X(CR)\")\n",
    "ax.set_title('Предсказания моделей для концентрации хрома 0.5')\n",
    "# ax.xaxis.set_major_formatter(FormatStrFormatter(\"%0.1f\"))\n",
    "ax.set_yticks([])"
   ]
  },
  {
   "cell_type": "code",
   "execution_count": 10,
   "metadata": {},
   "outputs": [
    {
     "data": {
      "image/png": "[encoded data removed]",
      "text/plain": [
       "<Figure size 900x600 with 1 Axes>"
      ]
     },
     "metadata": {},
     "output_type": "display_data"
    }
   ],
   "source": [
    "_, ax = plt.subplots(figsize=(9, 6))\n",
    "\n",
    "bins = np.linspace(0.68, 4.5, 9)\n",
    "ax = az.plot_dist(\n",
    "    ppc10.posterior_predictive['y_norm_75'].mean(\"y_norm_75_dim_0\"),\n",
    "    label=\"model_10\",\n",
    "    kind=\"hist\",\n",
    "    hist_kwargs={\"alpha\": 0.5, \"bins\": bins},\n",
    ")\n",
    "ax = az.plot_dist(\n",
    "    ppc18.posterior_predictive[\"y_norm_75\"].mean(\"y_norm_75_dim_0\"),\n",
    "    label=\"model_18\",\n",
    "    color=\"C1\",\n",
    "    kind=\"hist\",\n",
    "    hist_kwargs={\"alpha\": 0.5, \"bins\": bins},\n",
    "    ax=ax,\n",
    ")\n",
    "ax.legend()\n",
    "ax.set_xlabel(\"X(CR)\")\n",
    "ax.set_title('Предсказания моделей для концентрации хрома 0.75')\n",
    "ax.set_ylim(0, 10)\n",
    "# ax.xaxis.set_major_formatter(FormatStrFormatter(\"%0.1f\"))\n",
    "ax.set_yticks([]);"
   ]
  },
  {
   "attachments": {},
   "cell_type": "markdown",
   "metadata": {},
   "source": [
    "## Вывод\n",
    "10 модель точнее"
   ]
  },
  {
   "attachments": {},
   "cell_type": "markdown",
   "metadata": {},
   "source": [
    "## График распределения"
   ]
  },
  {
   "cell_type": "code",
   "execution_count": 11,
   "metadata": {},
   "outputs": [],
   "source": [
    "y_norm_05_temp_dict10 = from_ppc_to_temp_dict(ppc10, 'y_norm_05')\n",
    "y_norm_75_temp_dict10 = from_ppc_to_temp_dict(ppc10, 'y_norm_75')\n",
    "y_norm_05_temp_dict18 = from_ppc_to_temp_dict(ppc18, 'y_norm_05')\n",
    "y_norm_75_temp_dict18 = from_ppc_to_temp_dict(ppc18, 'y_norm_75')"
   ]
  },
  {
   "cell_type": "code",
   "execution_count": 12,
   "metadata": {},
   "outputs": [
    {
     "data": {
      "image/png": "[encoded data removed]",
      "text/plain": [
       "<Figure size 900x600 with 1 Axes>"
      ]
     },
     "metadata": {},
     "output_type": "display_data"
    }
   ],
   "source": [
    "# Создаем фигуру и оси\n",
    "fig = plt.figure(figsize=(9,6))\n",
    "axes = fig.gca()\n",
    "\n",
    "axes.set_title('Зависимость концентрации хрома от температуры')\n",
    "\n",
    "\n",
    "# Добавляем точки на график и задаем метки для легенды\n",
    "\n",
    "for i in range(len(t_05)):\n",
    "    min_0510 = np.percentile(y_norm_05_temp_dict10[i], 2.5)\n",
    "    max_0510 = np.percentile(y_norm_05_temp_dict10[i], 100-2.5)\n",
    "    mean_0510 = sum(y_norm_05_temp_dict10[i])/len(y_norm_05_temp_dict10[i])\n",
    "    yt_0510 = [x for x in y_norm_05_temp_dict10[i] if x > min_0510 and x < max_0510]\n",
    "\n",
    "    min_0518 = np.percentile(y_norm_05_temp_dict18[i], 2.5)\n",
    "    max_0518 = np.percentile(y_norm_05_temp_dict18[i], 100-2.5)\n",
    "    mean_0518 = sum(y_norm_05_temp_dict18[i])/len(y_norm_05_temp_dict18[i])\n",
    "    yt_0518 = [x for x in y_norm_05_temp_dict18[i] if x > min_0518 and x < max_0518]\n",
    "    \n",
    "    scatter2 = axes.scatter(yt_0510, np.repeat(t_05[i], len(yt_0510)), label='Co-Cr10 posterior predicted', color = 'violet')\n",
    "    scatter3 = axes.scatter(mean_0510, t_05[i], label='Co-Cr10 mean posterior predicted', color = 'darkviolet')\n",
    "    scatter4 = axes.scatter(yt_0518, np.repeat(t_05[i], len(yt_0518)), label='Co-Cr18 posterior predicted', color = 'lightcoral')\n",
    "    scatter5 = axes.scatter(mean_0518, t_05[i], label='Co-Cr18 mean posterior predicted', color = 'brown')\n",
    "\n",
    "\n",
    "for i in range(len(t_75)):    \n",
    "    min_7510 = np.percentile(y_norm_75_temp_dict10[i], 2.5)\n",
    "    max_7510 = np.percentile(y_norm_75_temp_dict10[i], 100-2.5)\n",
    "    y_75_1010 = [x if x < 1 else 1 for x in y_norm_75_temp_dict10[i] ]\n",
    "    if len(y_75_1010) > 0:\n",
    "        yt_7510 = [x for x in y_norm_75_temp_dict10[i] if x > min_7510 and x < max_7510 and x < 1]\n",
    "        mean_7510 = sum(y_norm_75_temp_dict10[i])/len(y_norm_75_temp_dict10[i])\n",
    "    min_7518 = np.percentile(y_norm_75_temp_dict18[i], 2.5)\n",
    "    max_7518 = np.percentile(y_norm_75_temp_dict18[i], 100-2.5)\n",
    "    y_75_1018 = [x if x < 1 else 1 for x in y_norm_75_temp_dict18[i]]\n",
    "    # if len(y_75_1018) > 0:\n",
    "    yt_7518 = [x for x in y_norm_75_temp_dict18[i] if x > min_7518 and x < max_7518 and x < 1]\n",
    "    mean_7518 = sum(y_75_1018)/len(y_75_1018)\n",
    "    \n",
    "    scatter2 = axes.scatter(yt_7510, np.repeat(t_05[i], len(yt_0510)), label='Co-Cr10 posterior predicted', color = 'violet')\n",
    "    scatter3 = axes.scatter(mean_7510, t_05[i], label='Co-Cr10 mean posterior predicted', color = 'darkviolet')\n",
    "    scatter4 = axes.scatter(yt_7518, np.repeat(t_05[i], len(yt_7518)), label='Co-Cr18 posterior predicted', color = 'lightcoral')\n",
    "    scatter5 = axes.scatter(mean_7518, t_05[i], label='Co-Cr18 mean posterior predicted', color = 'brown')\n",
    "\n",
    "\n",
    "scatter1 = axes.scatter(y_obs_05, t_05, label='observed', color = 'limegreen')\n",
    "scatter1 = axes.scatter(y_obs_75, t_75, label='observed', color = 'limegreen')\n",
    "\n",
    "# Добавляем легенду на график\n",
    "axes.legend(handles=[scatter1, scatter2, scatter3, scatter4, scatter5])\n",
    "\n",
    "# Задаем название осей\n",
    "axes.set_xlabel('X(CR)')\n",
    "axes.set_ylabel('Tempreture (K)')\n",
    "\n",
    "# Отображаем график\n",
    "plt.show()"
   ]
  },
  {
   "attachments": {},
   "cell_type": "markdown",
   "metadata": {},
   "source": [
    "## Вывод\n",
    "10 модель точнее"
   ]
  },
  {
   "attachments": {},
   "cell_type": "markdown",
   "metadata": {},
   "source": [
    "# Вывод\n",
    "10 модель позволяет получить более точные результаты"
   ]
  }
 ],
 "metadata": {
  "kernelspec": {
   "display_name": "Python 3",
   "language": "python",
   "name": "python3"
  },
  "language_info": {
   "codemirror_mode": {
    "name": "ipython",
    "version": 3
   },
   "file_extension": ".py",
   "mimetype": "text/x-python",
   "name": "python",
   "nbconvert_exporter": "python",
   "pygments_lexer": "ipython3",
   "version": "3.10.10"
  },
  "orig_nbformat": 4
 },
 "nbformat": 4,
 "nbformat_minor": 2
}
