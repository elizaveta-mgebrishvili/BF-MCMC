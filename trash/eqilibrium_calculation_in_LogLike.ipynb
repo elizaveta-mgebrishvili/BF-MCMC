{
 "cells": [
  {
   "cell_type": "code",
   "execution_count": 1,
   "id": "446eaff2-f03a-44eb-b310-7415b759b4af",
   "metadata": {
    "tags": []
   },
   "outputs": [],
   "source": [
    "import IPython\n",
    "import matplotlib\n",
    "import matplotlib.pyplot as plt\n",
    "import pandas as pd\n",
    "import numpy as np\n",
    "\n",
    "# для расчетов над tdb\n",
    "from pycalphad import Database, equilibrium, variables as v \n",
    "\n",
    "# для MCMC расчетов\n",
    "# import pymc as pm  # пакет для MCMC расчетов \n",
    "# import arviz as az # пакет для работы с типом данных arviz\n",
    "# import pytensor\n",
    "# import pytensor.tensor as pt\n",
    "# import theano\n",
    "# theano.config.exception_verbosity = 'high' # должно выдавать подробное описание ошибки, но не помогает\n",
    "\n",
    "# import aesara\n",
    "\n",
    "# пути к tdb\n",
    "cc10_path = \"tdbs/CoCr-01Oik_with_new_functions.tdb\"\n",
    "\n",
    "# print(f\"Running on PyMC v{pm.__version__}\")"
   ]
  },
  {
   "cell_type": "code",
   "execution_count": 2,
   "id": "4f11d88b",
   "metadata": {},
   "outputs": [],
   "source": [
    "# np.__version__"
   ]
  },
  {
   "cell_type": "code",
   "execution_count": 3,
   "id": "0fdb8f34-2cf3-4669-a377-5b0ef35b69bd",
   "metadata": {
    "tags": []
   },
   "outputs": [],
   "source": [
    "def from_xarray_to_pandas(xarray_data, phase_str):\n",
    "    cr_tuple = xarray_data.X.sel(component = 'CR').data[0][0]\n",
    "    phase_tuple = xarray_data.Phase.data[0][0]\n",
    "    t_tuple = xarray_data.T.data\n",
    "    \n",
    "    df_res = pd.DataFrame()\n",
    "    df_res['T'] = ''\n",
    "    df_res['phase'] = ''\n",
    "    df_res['cr_conc'] = ''\n",
    "    \n",
    "    df = pd.DataFrame()\n",
    "    df['T'] = t_tuple\n",
    "    df['phase_1'] = ''\n",
    "    df['phase_2'] = ''\n",
    "    df['phase_3'] = ''\n",
    "    df['cr_conc_1'] = ''\n",
    "    df['cr_conc_2'] = ''\n",
    "    df['cr_conc_3'] = ''\n",
    "    \n",
    "    # print(t_tuple, len(t_tuple))\n",
    "    for i in range(len(t_tuple)):\n",
    "        df.iloc[i, df.columns.get_loc('phase_1')] = phase_tuple[i][0][0]\n",
    "        df.iloc[i, df.columns.get_loc('phase_2')] = phase_tuple[i][0][1]\n",
    "        df.iloc[i, df.columns.get_loc('phase_3')] = phase_tuple[i][0][2]\n",
    "        df.iloc[i, df.columns.get_loc('cr_conc_1')] = cr_tuple[i][0][0]\n",
    "        df.iloc[i, df.columns.get_loc('cr_conc_2')] = cr_tuple[i][0][1]\n",
    "        df.iloc[i, df.columns.get_loc('cr_conc_3')] = cr_tuple[i][0][2]\n",
    "    \n",
    "    df_1 = df[(df['phase_1'] == phase_str)]\n",
    "    df_1 = df_1[['phase_1', 'cr_conc_1', 'T']]\n",
    "    df_1.rename(columns = {'phase_1':'phase', 'cr_conc_1':'cr_conc'}, inplace = True)\n",
    "    \n",
    "    df_2 = df[(df['phase_2'] == phase_str)]\n",
    "    df_2 = df_2[['phase_2', 'cr_conc_2', 'T']]\n",
    "    df_2.rename(columns = {'phase_2':'phase', 'cr_conc_2':'cr_conc'}, inplace = True)\n",
    "    \n",
    "    df_res = pd.concat([df_1, df_2])\n",
    "    \n",
    "    return df_res"
   ]
  },
  {
   "cell_type": "code",
   "execution_count": 9,
   "id": "9cb9da32-8a89-4be3-a1d5-b9e2e4bc6bd1",
   "metadata": {
    "tags": []
   },
   "outputs": [
    {
     "data": {
      "text/html": [
       "<div>\n",
       "<style scoped>\n",
       "    .dataframe tbody tr th:only-of-type {\n",
       "        vertical-align: middle;\n",
       "    }\n",
       "\n",
       "    .dataframe tbody tr th {\n",
       "        vertical-align: top;\n",
       "    }\n",
       "\n",
       "    .dataframe thead th {\n",
       "        text-align: right;\n",
       "    }\n",
       "</style>\n",
       "<table border=\"1\" class=\"dataframe\">\n",
       "  <thead>\n",
       "    <tr style=\"text-align: right;\">\n",
       "      <th></th>\n",
       "      <th>index</th>\n",
       "      <th>cr_conc</th>\n",
       "      <th>T</th>\n",
       "      <th>phase</th>\n",
       "    </tr>\n",
       "  </thead>\n",
       "  <tbody>\n",
       "    <tr>\n",
       "      <th>0</th>\n",
       "      <td>6</td>\n",
       "      <td>0.532019</td>\n",
       "      <td>1321.35</td>\n",
       "      <td>sigma_old</td>\n",
       "    </tr>\n",
       "    <tr>\n",
       "      <th>1</th>\n",
       "      <td>7</td>\n",
       "      <td>0.542469</td>\n",
       "      <td>1226.97</td>\n",
       "      <td>sigma_old</td>\n",
       "    </tr>\n",
       "    <tr>\n",
       "      <th>2</th>\n",
       "      <td>8</td>\n",
       "      <td>0.547749</td>\n",
       "      <td>1471.91</td>\n",
       "      <td>sigma_old</td>\n",
       "    </tr>\n",
       "    <tr>\n",
       "      <th>3</th>\n",
       "      <td>9</td>\n",
       "      <td>0.554050</td>\n",
       "      <td>1370.79</td>\n",
       "      <td>sigma_old</td>\n",
       "    </tr>\n",
       "    <tr>\n",
       "      <th>4</th>\n",
       "      <td>10</td>\n",
       "      <td>0.556156</td>\n",
       "      <td>1269.66</td>\n",
       "      <td>sigma_old</td>\n",
       "    </tr>\n",
       "    <tr>\n",
       "      <th>5</th>\n",
       "      <td>11</td>\n",
       "      <td>0.559283</td>\n",
       "      <td>1422.47</td>\n",
       "      <td>sigma_old</td>\n",
       "    </tr>\n",
       "  </tbody>\n",
       "</table>\n",
       "</div>"
      ],
      "text/plain": [
       "   index   cr_conc        T      phase\n",
       "0      6  0.532019  1321.35  sigma_old\n",
       "1      7  0.542469  1226.97  sigma_old\n",
       "2      8  0.547749  1471.91  sigma_old\n",
       "3      9  0.554050  1370.79  sigma_old\n",
       "4     10  0.556156  1269.66  sigma_old\n",
       "5     11  0.559283  1422.47  sigma_old"
      ]
     },
     "execution_count": 9,
     "metadata": {},
     "output_type": "execute_result"
    }
   ],
   "source": [
    "df_sigma_fcc = pd.read_excel('emp_data/sigma_fcc_allibert.xls')\n",
    "# df_sigma_bcc = pd.read_excel('emp_data/sigma_bcc_allibert.xls')\n",
    "# df_sigma_hcp = pd.read_excel('emp_data/sigma_hcp_allibert.xls')\n",
    "\n",
    "df_sigma_fcc['T'] = df_sigma_fcc['T'].round(2)\n",
    "df_sigma_fcc['cr_conc'] = df_sigma_fcc['cr_conc'].round(6)\n",
    "df_sigma_fcc_sigma_old = df_sigma_fcc[(df_sigma_fcc['phase'] == 'sigma_old')].reset_index()\n",
    "df_sigma_fcc_sigma_old"
   ]
  },
  {
   "cell_type": "code",
   "execution_count": 13,
   "id": "b8fd6a52-4229-466a-9d6e-35ea3dbd012b",
   "metadata": {
    "tags": []
   },
   "outputs": [],
   "source": [
    "db10 = Database(cc10_path)\n",
    "phases10 = list(db10.phases.keys())\n",
    "press = 101325\n",
    "elements = ['CR', 'CO', 'VA']\n",
    "el_cnt = 1\n",
    "T = df_sigma_fcc_sigma_old['T'].to_numpy()\n",
    "phase = 'SIGMA_OLD'\n",
    "y_obs = df_sigma_fcc_sigma_old['cr_conc'].values\n",
    "conditions = {v.X('CR'):0.5, v.P: 101325, v.T: T, v.N: el_cnt}"
   ]
  },
  {
   "cell_type": "code",
   "execution_count": 14,
   "id": "4f96eded-03de-4f7e-90c1-ca80c6d90697",
   "metadata": {
    "tags": []
   },
   "outputs": [
    {
     "data": {
      "text/plain": [
       "array([0.532019, 0.542469, 0.547749, 0.55405 , 0.556156, 0.559283])"
      ]
     },
     "execution_count": 14,
     "metadata": {},
     "output_type": "execute_result"
    }
   ],
   "source": [
    "y_obs"
   ]
  },
  {
   "cell_type": "markdown",
   "id": "66d15742-e120-4037-ad03-38ea643c6136",
   "metadata": {},
   "source": [
    "# Сейчас реализовано так"
   ]
  },
  {
   "cell_type": "code",
   "execution_count": 11,
   "id": "4f28baf6-35d2-43bb-8f51-5b29056a986c",
   "metadata": {
    "tags": []
   },
   "outputs": [
    {
     "data": {
      "text/html": [
       "<div>\n",
       "<style scoped>\n",
       "    .dataframe tbody tr th:only-of-type {\n",
       "        vertical-align: middle;\n",
       "    }\n",
       "\n",
       "    .dataframe tbody tr th {\n",
       "        vertical-align: top;\n",
       "    }\n",
       "\n",
       "    .dataframe thead th {\n",
       "        text-align: right;\n",
       "    }\n",
       "</style>\n",
       "<table border=\"1\" class=\"dataframe\">\n",
       "  <thead>\n",
       "    <tr style=\"text-align: right;\">\n",
       "      <th></th>\n",
       "      <th>phase</th>\n",
       "      <th>cr_conc</th>\n",
       "      <th>T</th>\n",
       "    </tr>\n",
       "  </thead>\n",
       "  <tbody>\n",
       "    <tr>\n",
       "      <th>0</th>\n",
       "      <td>SIGMA_OLD</td>\n",
       "      <td>0.5</td>\n",
       "      <td>1321.35</td>\n",
       "    </tr>\n",
       "    <tr>\n",
       "      <th>1</th>\n",
       "      <td>SIGMA_OLD</td>\n",
       "      <td>0.5</td>\n",
       "      <td>1226.97</td>\n",
       "    </tr>\n",
       "    <tr>\n",
       "      <th>2</th>\n",
       "      <td>SIGMA_OLD</td>\n",
       "      <td>0.5</td>\n",
       "      <td>1471.91</td>\n",
       "    </tr>\n",
       "    <tr>\n",
       "      <th>3</th>\n",
       "      <td>SIGMA_OLD</td>\n",
       "      <td>0.5</td>\n",
       "      <td>1370.79</td>\n",
       "    </tr>\n",
       "    <tr>\n",
       "      <th>4</th>\n",
       "      <td>SIGMA_OLD</td>\n",
       "      <td>0.5</td>\n",
       "      <td>1269.66</td>\n",
       "    </tr>\n",
       "    <tr>\n",
       "      <th>5</th>\n",
       "      <td>SIGMA_OLD</td>\n",
       "      <td>0.5</td>\n",
       "      <td>1422.47</td>\n",
       "    </tr>\n",
       "  </tbody>\n",
       "</table>\n",
       "</div>"
      ],
      "text/plain": [
       "       phase cr_conc        T\n",
       "0  SIGMA_OLD     0.5  1321.35\n",
       "1  SIGMA_OLD     0.5  1226.97\n",
       "2  SIGMA_OLD     0.5  1471.91\n",
       "3  SIGMA_OLD     0.5  1370.79\n",
       "4  SIGMA_OLD     0.5  1269.66\n",
       "5  SIGMA_OLD     0.5  1422.47"
      ]
     },
     "execution_count": 11,
     "metadata": {},
     "output_type": "execute_result"
    }
   ],
   "source": [
    "eq_test_now = equilibrium(db10\n",
    "                                            , elements\n",
    "                                            , phase # тут передается только сигма фаза\n",
    "                                            , conditions\n",
    "                                        )\n",
    "eq_res_now = from_xarray_to_pandas(eq_test_now, phase)\n",
    "eq_res_now"
   ]
  },
  {
   "cell_type": "markdown",
   "id": "c2ca37ed-b565-4be2-ab92-56399e8c525d",
   "metadata": {
    "tags": []
   },
   "source": [
    "# А должно быть видимо вот так?"
   ]
  },
  {
   "cell_type": "code",
   "execution_count": 12,
   "id": "019ca532-4681-495f-9ee8-248421dc190f",
   "metadata": {
    "tags": []
   },
   "outputs": [
    {
     "data": {
      "text/html": [
       "<div>\n",
       "<style scoped>\n",
       "    .dataframe tbody tr th:only-of-type {\n",
       "        vertical-align: middle;\n",
       "    }\n",
       "\n",
       "    .dataframe tbody tr th {\n",
       "        vertical-align: top;\n",
       "    }\n",
       "\n",
       "    .dataframe thead th {\n",
       "        text-align: right;\n",
       "    }\n",
       "</style>\n",
       "<table border=\"1\" class=\"dataframe\">\n",
       "  <thead>\n",
       "    <tr style=\"text-align: right;\">\n",
       "      <th></th>\n",
       "      <th>phase</th>\n",
       "      <th>cr_conc</th>\n",
       "      <th>T</th>\n",
       "    </tr>\n",
       "  </thead>\n",
       "  <tbody>\n",
       "    <tr>\n",
       "      <th>0</th>\n",
       "      <td>SIGMA_OLD</td>\n",
       "      <td>0.547649</td>\n",
       "      <td>1321.35</td>\n",
       "    </tr>\n",
       "    <tr>\n",
       "      <th>1</th>\n",
       "      <td>SIGMA_OLD</td>\n",
       "      <td>0.540192</td>\n",
       "      <td>1226.97</td>\n",
       "    </tr>\n",
       "    <tr>\n",
       "      <th>2</th>\n",
       "      <td>SIGMA_OLD</td>\n",
       "      <td>0.567237</td>\n",
       "      <td>1471.91</td>\n",
       "    </tr>\n",
       "    <tr>\n",
       "      <th>3</th>\n",
       "      <td>SIGMA_OLD</td>\n",
       "      <td>0.554281</td>\n",
       "      <td>1370.79</td>\n",
       "    </tr>\n",
       "    <tr>\n",
       "      <th>4</th>\n",
       "      <td>SIGMA_OLD</td>\n",
       "      <td>0.541562</td>\n",
       "      <td>1269.66</td>\n",
       "    </tr>\n",
       "    <tr>\n",
       "      <th>5</th>\n",
       "      <td>SIGMA_OLD</td>\n",
       "      <td>0.56099</td>\n",
       "      <td>1422.47</td>\n",
       "    </tr>\n",
       "  </tbody>\n",
       "</table>\n",
       "</div>"
      ],
      "text/plain": [
       "       phase   cr_conc        T\n",
       "0  SIGMA_OLD  0.547649  1321.35\n",
       "1  SIGMA_OLD  0.540192  1226.97\n",
       "2  SIGMA_OLD  0.567237  1471.91\n",
       "3  SIGMA_OLD  0.554281  1370.79\n",
       "4  SIGMA_OLD  0.541562  1269.66\n",
       "5  SIGMA_OLD   0.56099  1422.47"
      ]
     },
     "execution_count": 12,
     "metadata": {},
     "output_type": "execute_result"
    }
   ],
   "source": [
    "eq_test_new = equilibrium(db10\n",
    "                                            , elements\n",
    "                                            , phases10 # тут передаются все фазы\n",
    "                                            , conditions\n",
    "                                        )\n",
    "eq_res_new = from_xarray_to_pandas(eq_test_new, phase)\n",
    "eq_res_new"
   ]
  }
 ],
 "metadata": {
  "kernelspec": {
   "display_name": "Python 3 (ipykernel)",
   "language": "python",
   "name": "python3"
  },
  "language_info": {
   "codemirror_mode": {
    "name": "ipython",
    "version": 3
   },
   "file_extension": ".py",
   "mimetype": "text/x-python",
   "name": "python",
   "nbconvert_exporter": "python",
   "pygments_lexer": "ipython3",
   "version": "3.10.10"
  }
 },
 "nbformat": 4,
 "nbformat_minor": 5
}
