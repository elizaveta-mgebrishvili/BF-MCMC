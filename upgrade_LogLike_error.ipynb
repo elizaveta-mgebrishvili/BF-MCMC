{
 "cells": [
  {
   "cell_type": "code",
   "execution_count": 1,
   "id": "446eaff2-f03a-44eb-b310-7415b759b4af",
   "metadata": {
    "tags": []
   },
   "outputs": [
    {
     "name": "stderr",
     "output_type": "stream",
     "text": [
      "WARNING (pytensor.configdefaults): g++ not available, if using conda: `conda install m2w64-toolchain`\n",
      "WARNING (pytensor.configdefaults): g++ not detected!  PyTensor will be unable to compile C-implementations and will default to Python. Performance may be severely degraded. To remove this warning, set PyTensor flags cxx to an empty string.\n",
      "WARNING (pytensor.tensor.blas): Using NumPy C-API based implementation for BLAS functions.\n",
      "WARNING (aesara.configdefaults): g++ not available, if using conda: `conda install m2w64-toolchain`\n",
      "WARNING (aesara.configdefaults): g++ not detected!  Aesara will be unable to compile C-implementations and will default to Python. Performance may be severely degraded. To remove this warning, set Aesara flags cxx to an empty string.\n",
      "WARNING (aesara.tensor.blas): Using NumPy C-API based implementation for BLAS functions.\n"
     ]
    },
    {
     "name": "stdout",
     "output_type": "stream",
     "text": [
      "Running on PyMC v5.1.2\n",
      "Running on NumPy v1.22.1\n",
      "Running on arviz v0.12.1\n"
     ]
    }
   ],
   "source": [
    "import IPython\n",
    "import matplotlib\n",
    "import matplotlib.pyplot as plt\n",
    "import pandas as pd\n",
    "import numpy as np\n",
    "\n",
    "# для расчетов над tdb\n",
    "from pycalphad import Database, equilibrium, variables as v \n",
    "\n",
    "# для MCMC расчетов\n",
    "import pymc as pm  # пакет для MCMC расчетов \n",
    "import arviz as az # пакет для работы с типом данных arviz\n",
    "import pytensor\n",
    "import pytensor.tensor as pt\n",
    "# import theano\n",
    "# theano.config.exception_verbosity = 'high' # должно выдавать подробное описание ошибки, но не помогает\n",
    "\n",
    "import aesara\n",
    "\n",
    "# пути к tdb\n",
    "cc10_path = \"tdbs/CoCr-01Oik_with_new_functions.tdb\"\n",
    "\n",
    "print(f\"Running on PyMC v{pm.__version__}\") #5.1.2\n",
    "print(f\"Running on NumPy v{np.__version__}\") #1.22.1\n",
    "print(f\"Running on arviz v{az.__version__}\") #0.12.1"
   ]
  },
  {
   "cell_type": "code",
   "execution_count": 2,
   "id": "0fdb8f34-2cf3-4669-a377-5b0ef35b69bd",
   "metadata": {
    "tags": []
   },
   "outputs": [],
   "source": [
    "def from_xarray_to_pandas(xarray_data, phase_str):\n",
    "    cr_tuple = xarray_data.X.sel(component = 'CR').data[0][0]\n",
    "    phase_tuple = xarray_data.Phase.data[0][0]\n",
    "    t_tuple = xarray_data.T.data\n",
    "    \n",
    "    df_res = pd.DataFrame()\n",
    "    df_res['T'] = ''\n",
    "    df_res['phase'] = ''\n",
    "    df_res['cr_conc'] = ''\n",
    "    \n",
    "    df = pd.DataFrame()\n",
    "    df['T'] = t_tuple\n",
    "    df['phase_1'] = ''\n",
    "    df['phase_2'] = ''\n",
    "    df['phase_3'] = ''\n",
    "    df['cr_conc_1'] = ''\n",
    "    df['cr_conc_2'] = ''\n",
    "    df['cr_conc_3'] = ''\n",
    "    \n",
    "    # print(t_tuple, len(t_tuple))\n",
    "    for i in range(len(t_tuple)):\n",
    "        df.iloc[i, df.columns.get_loc('phase_1')] = phase_tuple[i][0][0]\n",
    "        df.iloc[i, df.columns.get_loc('phase_2')] = phase_tuple[i][0][1]\n",
    "        df.iloc[i, df.columns.get_loc('phase_3')] = phase_tuple[i][0][2]\n",
    "        df.iloc[i, df.columns.get_loc('cr_conc_1')] = cr_tuple[i][0][0]\n",
    "        df.iloc[i, df.columns.get_loc('cr_conc_2')] = cr_tuple[i][0][1]\n",
    "        df.iloc[i, df.columns.get_loc('cr_conc_3')] = cr_tuple[i][0][2]\n",
    "    \n",
    "    df_1 = df[(df['phase_1'] == phase_str)]\n",
    "    df_1 = df_1[['phase_1', 'cr_conc_1', 'T']]\n",
    "    df_1.rename(columns = {'phase_1':'phase', 'cr_conc_1':'cr_conc'}, inplace = True)\n",
    "    \n",
    "    df_2 = df[(df['phase_2'] == phase_str)]\n",
    "    df_2 = df_2[['phase_2', 'cr_conc_2', 'T']]\n",
    "    df_2.rename(columns = {'phase_2':'phase', 'cr_conc_2':'cr_conc'}, inplace = True)\n",
    "    \n",
    "    df_res = pd.concat([df_1, df_2])\n",
    "    \n",
    "    return df_res"
   ]
  },
  {
   "cell_type": "markdown",
   "id": "9707c58b-df9e-4928-8bab-da327451b460",
   "metadata": {
    "tags": []
   },
   "source": [
    "Опытные данные"
   ]
  },
  {
   "cell_type": "code",
   "execution_count": 3,
   "id": "8c7b3820-6666-41aa-8b8b-679fdd1cbeb2",
   "metadata": {
    "tags": []
   },
   "outputs": [
    {
     "data": {
      "text/html": [
       "<div>\n",
       "<style scoped>\n",
       "    .dataframe tbody tr th:only-of-type {\n",
       "        vertical-align: middle;\n",
       "    }\n",
       "\n",
       "    .dataframe tbody tr th {\n",
       "        vertical-align: top;\n",
       "    }\n",
       "\n",
       "    .dataframe thead th {\n",
       "        text-align: right;\n",
       "    }\n",
       "</style>\n",
       "<table border=\"1\" class=\"dataframe\">\n",
       "  <thead>\n",
       "    <tr style=\"text-align: right;\">\n",
       "      <th></th>\n",
       "      <th>index</th>\n",
       "      <th>cr_conc</th>\n",
       "      <th>T</th>\n",
       "      <th>phase</th>\n",
       "    </tr>\n",
       "  </thead>\n",
       "  <tbody>\n",
       "    <tr>\n",
       "      <th>0</th>\n",
       "      <td>6</td>\n",
       "      <td>0.532019</td>\n",
       "      <td>1321.35</td>\n",
       "      <td>sigma_old</td>\n",
       "    </tr>\n",
       "    <tr>\n",
       "      <th>1</th>\n",
       "      <td>7</td>\n",
       "      <td>0.542469</td>\n",
       "      <td>1226.97</td>\n",
       "      <td>sigma_old</td>\n",
       "    </tr>\n",
       "    <tr>\n",
       "      <th>2</th>\n",
       "      <td>8</td>\n",
       "      <td>0.547749</td>\n",
       "      <td>1471.91</td>\n",
       "      <td>sigma_old</td>\n",
       "    </tr>\n",
       "    <tr>\n",
       "      <th>3</th>\n",
       "      <td>9</td>\n",
       "      <td>0.554050</td>\n",
       "      <td>1370.79</td>\n",
       "      <td>sigma_old</td>\n",
       "    </tr>\n",
       "    <tr>\n",
       "      <th>4</th>\n",
       "      <td>10</td>\n",
       "      <td>0.556156</td>\n",
       "      <td>1269.66</td>\n",
       "      <td>sigma_old</td>\n",
       "    </tr>\n",
       "    <tr>\n",
       "      <th>5</th>\n",
       "      <td>11</td>\n",
       "      <td>0.559283</td>\n",
       "      <td>1422.47</td>\n",
       "      <td>sigma_old</td>\n",
       "    </tr>\n",
       "  </tbody>\n",
       "</table>\n",
       "</div>"
      ],
      "text/plain": [
       "   index   cr_conc        T      phase\n",
       "0      6  0.532019  1321.35  sigma_old\n",
       "1      7  0.542469  1226.97  sigma_old\n",
       "2      8  0.547749  1471.91  sigma_old\n",
       "3      9  0.554050  1370.79  sigma_old\n",
       "4     10  0.556156  1269.66  sigma_old\n",
       "5     11  0.559283  1422.47  sigma_old"
      ]
     },
     "execution_count": 3,
     "metadata": {},
     "output_type": "execute_result"
    }
   ],
   "source": [
    "df_sigma_fcc = pd.read_excel('emp_data/sigma_fcc_allibert.xls')\n",
    "# df_sigma_bcc = pd.read_excel('emp_data/sigma_bcc_allibert.xls')\n",
    "# df_sigma_hcp = pd.read_excel('emp_data/sigma_hcp_allibert.xls')\n",
    "\n",
    "df_sigma_fcc['T'] = df_sigma_fcc['T'].round(2)\n",
    "df_sigma_fcc['cr_conc'] = df_sigma_fcc['cr_conc'].round(6)\n",
    "df_sigma_fcc_sigma_old = df_sigma_fcc[(df_sigma_fcc['phase'] == 'sigma_old')].reset_index()\n",
    "df_sigma_fcc_sigma_old"
   ]
  },
  {
   "cell_type": "code",
   "execution_count": 4,
   "id": "faf5d0dd-1815-4c3e-a350-c4b9970b767a",
   "metadata": {
    "tags": []
   },
   "outputs": [],
   "source": [
    "# define a pytensor Op for our likelihood function\n",
    "class LogLike(pt.Op):\n",
    "#     определяем тип входящих и исходящих данных\n",
    "    itypes = [pt.dvector]  # expects a vector of parameter values when called\n",
    "    otypes = [pt.dscalar]  # outputs a single scalar value (the log likelihood)\n",
    "\n",
    "    def __init__(self, db, conditions, phases, phase, elements, y_obs):\n",
    "        self.db_tdb = db\n",
    "        self.conditions_dict = conditions\n",
    "        self.phase_list = phases                                            # добавила эту строчку\n",
    "        self.phase_str = phase\n",
    "        self.elements_list = elements\n",
    "        self.y_obs_nparray = y_obs\n",
    "\n",
    "    def perform(self, node, inputs, outputs):\n",
    "        \n",
    "        (theta,) = inputs  # this will contain my variables\n",
    "        \n",
    "        COCRCO_0, COCRCO_1, COCRCR_0, COCRCR_1 = theta\n",
    "        \n",
    "        new_parameters = {\n",
    "         'SIGMA_OLD_COCRCO_0' : COCRCO_0\n",
    "         ,'SIGMA_OLD_COCRCO_1': COCRCO_1\n",
    "         ,'SIGMA_OLD_COCRCR_0': COCRCR_0\n",
    "         ,'SIGMA_OLD_COCRCR_1': COCRCR_1\n",
    "        }\n",
    "        \n",
    "        y_eq = from_xarray_to_pandas(equilibrium(self.db_tdb\n",
    "                                            , self.elements_list\n",
    "                                            , self.phase_list              # тут тоже ее добавила\n",
    "                                            , self.conditions_dict\n",
    "                                            , parameters = new_parameters\n",
    "                                        ), self.phase_str)['cr_conc'].astype(float) # cr_conc - нужно абстрагировать\n",
    "        \n",
    "        outputs[0][0] = np.array(- np.sum((self.y_obs_nparray - y_eq)**2))\n",
    "                             "
   ]
  },
  {
   "cell_type": "code",
   "execution_count": 5,
   "id": "b8fd6a52-4229-466a-9d6e-35ea3dbd012b",
   "metadata": {
    "tags": []
   },
   "outputs": [],
   "source": [
    "db10 = Database(cc10_path)\n",
    "\n",
    "phases10 = list(db10.phases.keys())\n",
    "phases = ['BCC_A2', 'HCP_A3', 'SIGMA_OLD']\n",
    "press = 101325\n",
    "elements = ['CR', 'CO', 'VA']\n",
    "el_cnt = 1\n",
    "\n",
    "df_sigma_fcc_sigma_old = df_sigma_fcc_sigma_old.sort_values('T')\n",
    "\n",
    "T = df_sigma_fcc_sigma_old['T'].to_numpy()\n",
    "phase = 'SIGMA_OLD'\n",
    "\n",
    "y_obs = df_sigma_fcc_sigma_old['cr_conc'].values\n",
    "conditions = {v.X('CR'):0.5, v.P: 101325, v.T: T, v.N: el_cnt}"
   ]
  },
  {
   "cell_type": "code",
   "execution_count": 6,
   "id": "380c7c13-49a6-47bc-b34c-9b2354efe7c6",
   "metadata": {},
   "outputs": [
    {
     "name": "stderr",
     "output_type": "stream",
     "text": [
      "C:\\Users\\emgebrishvili\\AppData\\Local\\Programs\\Python\\Python310\\lib\\site-packages\\multipledispatch\\dispatcher.py:27: AmbiguityWarning: \n",
      "Ambiguities exist in dispatched function _unify\n",
      "\n",
      "The following signatures may result in ambiguous behavior:\n",
      "\t[ConstrainedVar, Var, Mapping], [object, ConstrainedVar, Mapping]\n",
      "\t[ConstrainedVar, object, Mapping], [object, ConstrainedVar, Mapping]\n",
      "\t[ConstrainedVar, Var, Mapping], [object, ConstrainedVar, Mapping]\n",
      "\t[ConstrainedVar, object, Mapping], [object, ConstrainedVar, Mapping]\n",
      "\n",
      "\n",
      "Consider making the following additions:\n",
      "\n",
      "@dispatch(ConstrainedVar, ConstrainedVar, Mapping)\n",
      "def _unify(...)\n",
      "\n",
      "@dispatch(ConstrainedVar, ConstrainedVar, Mapping)\n",
      "def _unify(...)\n",
      "\n",
      "@dispatch(ConstrainedVar, ConstrainedVar, Mapping)\n",
      "def _unify(...)\n",
      "\n",
      "@dispatch(ConstrainedVar, ConstrainedVar, Mapping)\n",
      "def _unify(...)\n",
      "  warn(warning_text(dispatcher.name, ambiguities), AmbiguityWarning)\n",
      "Multiprocess sampling (4 chains in 4 jobs)\n",
      "CompoundStep\n",
      ">Slice: [SIGMA_OLD_COCRCO_0]\n",
      ">Slice: [SIGMA_OLD_COCRCO_1]\n",
      ">Slice: [SIGMA_OLD_COCRCR_0]\n",
      ">Slice: [SIGMA_OLD_COCRCR_1]\n"
     ]
    },
    {
     "data": {
      "text/html": [
       "\n",
       "<style>\n",
       "    /* Turns off some styling */\n",
       "    progress {\n",
       "        /* gets rid of default border in Firefox and Opera. */\n",
       "        border: none;\n",
       "        /* Needs to be in here for Safari polyfill so background images work as expected. */\n",
       "        background-size: auto;\n",
       "    }\n",
       "    progress:not([value]), progress:not([value])::-webkit-progress-bar {\n",
       "        background: repeating-linear-gradient(45deg, #7e7e7e, #7e7e7e 10px, #5c5c5c 10px, #5c5c5c 20px);\n",
       "    }\n",
       "    .progress-bar-interrupted, .progress-bar-interrupted::-webkit-progress-bar {\n",
       "        background: #F44336;\n",
       "    }\n",
       "</style>\n"
      ],
      "text/plain": [
       "<IPython.core.display.HTML object>"
      ]
     },
     "metadata": {},
     "output_type": "display_data"
    },
    {
     "data": {
      "text/html": [
       "\n",
       "    <div>\n",
       "      <progress value='32' class='' max='4400' style='width:300px; height:20px; vertical-align: middle;'></progress>\n",
       "      0.73% [32/4400 00:18&lt;43:06 Sampling 4 chains, 0 divergences]\n",
       "    </div>\n",
       "    "
      ],
      "text/plain": [
       "<IPython.core.display.HTML object>"
      ]
     },
     "metadata": {},
     "output_type": "display_data"
    },
    {
     "ename": "ParallelSamplingError",
     "evalue": "Chain 3 failed with: operands could not be broadcast together with shapes (6,) (5,) \nApply node that caused the error: LogLike(MakeVector{dtype='float64'}.0)\nToposort index: 1\nInputs types: [TensorType(float64, (4,))]\nInputs shapes: [(4,)]\nInputs strides: [(8,)]\nInputs values: [array([-1.03863210e+05,  4.80534231e+01, -2.48108660e+05,  8.63348385e+01])]\nOutputs clients: [[MakeVector{dtype='float64'}(sigma > 0, sigma > 0, sigma > 0, sigma > 0, likelihood)]]\n\nBacktrace when the node is created (use PyTensor flag traceback__limit=N to make it longer):\n  File \"C:\\Users\\emgebrishvili\\AppData\\Local\\Programs\\Python\\Python310\\lib\\site-packages\\ipykernel\\zmqshell.py\", line 540, in run_cell\n    return super().run_cell(*args, **kwargs)\n  File \"C:\\Users\\emgebrishvili\\AppData\\Local\\Programs\\Python\\Python310\\lib\\site-packages\\IPython\\core\\interactiveshell.py\", line 2961, in run_cell\n    result = self._run_cell(\n  File \"C:\\Users\\emgebrishvili\\AppData\\Local\\Programs\\Python\\Python310\\lib\\site-packages\\IPython\\core\\interactiveshell.py\", line 3016, in _run_cell\n    result = runner(coro)\n  File \"C:\\Users\\emgebrishvili\\AppData\\Local\\Programs\\Python\\Python310\\lib\\site-packages\\IPython\\core\\async_helpers.py\", line 129, in _pseudo_sync_runner\n    coro.send(None)\n  File \"C:\\Users\\emgebrishvili\\AppData\\Local\\Programs\\Python\\Python310\\lib\\site-packages\\IPython\\core\\interactiveshell.py\", line 3221, in run_cell_async\n    has_raised = await self.run_ast_nodes(code_ast.body, cell_name,\n  File \"C:\\Users\\emgebrishvili\\AppData\\Local\\Programs\\Python\\Python310\\lib\\site-packages\\IPython\\core\\interactiveshell.py\", line 3400, in run_ast_nodes\n    if await self.run_code(code, result, async_=asy):\n  File \"C:\\Users\\emgebrishvili\\AppData\\Local\\Programs\\Python\\Python310\\lib\\site-packages\\IPython\\core\\interactiveshell.py\", line 3460, in run_code\n    exec(code_obj, self.user_global_ns, self.user_ns)\n  File \"C:\\Users\\emgebrishvili\\AppData\\Local\\Temp\\ipykernel_25724\\2380729586.py\", line 16, in <module>\n    likelihood = pm.Potential(\"likelihood\", logl(theta))\n\nHINT: Use the PyTensor flag `exception_verbosity=high` for a debug print-out and storage map footprint of this Apply node.",
     "output_type": "error",
     "traceback": [
      "\u001b[1;31m---------------------------------------------------------------------------\u001b[0m",
      "\u001b[1;31mRemoteTraceback\u001b[0m                           Traceback (most recent call last)",
      "\u001b[1;31mRemoteTraceback\u001b[0m: \n\"\"\"\nTraceback (most recent call last):\n  File \"C:\\Users\\emgebrishvili\\AppData\\Local\\Programs\\Python\\Python310\\lib\\site-packages\\pytensor\\link\\vm.py\", line 414, in __call__\n    thunk()\n  File \"C:\\Users\\emgebrishvili\\AppData\\Local\\Programs\\Python\\Python310\\lib\\site-packages\\pytensor\\graph\\op.py\", line 543, in rval\n    r = p(n, [x[0] for x in i], o)\n  File \"C:\\Users\\emgebrishvili\\AppData\\Local\\Temp\\ipykernel_25724\\2326442355.py\", line 35, in perform\n  File \"C:\\Users\\emgebrishvili\\AppData\\Local\\Programs\\Python\\Python310\\lib\\site-packages\\pandas\\core\\generic.py\", line 2113, in __array_ufunc__\n    return arraylike.array_ufunc(self, ufunc, method, *inputs, **kwargs)\n  File \"C:\\Users\\emgebrishvili\\AppData\\Local\\Programs\\Python\\Python310\\lib\\site-packages\\pandas\\core\\arraylike.py\", line 265, in array_ufunc\n    result = maybe_dispatch_ufunc_to_dunder_op(self, ufunc, method, *inputs, **kwargs)\n  File \"pandas\\_libs\\ops_dispatch.pyx\", line 113, in pandas._libs.ops_dispatch.maybe_dispatch_ufunc_to_dunder_op\n  File \"C:\\Users\\emgebrishvili\\AppData\\Local\\Programs\\Python\\Python310\\lib\\site-packages\\pandas\\core\\ops\\common.py\", line 72, in new_method\n    return method(self, other)\n  File \"C:\\Users\\emgebrishvili\\AppData\\Local\\Programs\\Python\\Python310\\lib\\site-packages\\pandas\\core\\arraylike.py\", line 114, in __rsub__\n    return self._arith_method(other, roperator.rsub)\n  File \"C:\\Users\\emgebrishvili\\AppData\\Local\\Programs\\Python\\Python310\\lib\\site-packages\\pandas\\core\\series.py\", line 6259, in _arith_method\n    return base.IndexOpsMixin._arith_method(self, other, op)\n  File \"C:\\Users\\emgebrishvili\\AppData\\Local\\Programs\\Python\\Python310\\lib\\site-packages\\pandas\\core\\base.py\", line 1325, in _arith_method\n    result = ops.arithmetic_op(lvalues, rvalues, op)\n  File \"C:\\Users\\emgebrishvili\\AppData\\Local\\Programs\\Python\\Python310\\lib\\site-packages\\pandas\\core\\ops\\array_ops.py\", line 226, in arithmetic_op\n    res_values = _na_arithmetic_op(left, right, op)  # type: ignore[arg-type]\n  File \"C:\\Users\\emgebrishvili\\AppData\\Local\\Programs\\Python\\Python310\\lib\\site-packages\\pandas\\core\\ops\\array_ops.py\", line 165, in _na_arithmetic_op\n    result = func(left, right)\n  File \"C:\\Users\\emgebrishvili\\AppData\\Local\\Programs\\Python\\Python310\\lib\\site-packages\\pandas\\core\\computation\\expressions.py\", line 241, in evaluate\n    return _evaluate(op, op_str, a, b)  # type: ignore[misc]\n  File \"C:\\Users\\emgebrishvili\\AppData\\Local\\Programs\\Python\\Python310\\lib\\site-packages\\pandas\\core\\computation\\expressions.py\", line 70, in _evaluate_standard\n    return op(a, b)\n  File \"C:\\Users\\emgebrishvili\\AppData\\Local\\Programs\\Python\\Python310\\lib\\site-packages\\pandas\\core\\roperator.py\", line 15, in rsub\n    return right - left\nValueError: operands could not be broadcast together with shapes (6,) (5,) \n\nDuring handling of the above exception, another exception occurred:\n\nTraceback (most recent call last):\n  File \"C:\\Users\\emgebrishvili\\AppData\\Local\\Programs\\Python\\Python310\\lib\\site-packages\\pymc\\sampling\\parallel.py\", line 122, in run\n    self._start_loop()\n  File \"C:\\Users\\emgebrishvili\\AppData\\Local\\Programs\\Python\\Python310\\lib\\site-packages\\pymc\\sampling\\parallel.py\", line 174, in _start_loop\n    point, stats = self._step_method.step(self._point)\n  File \"C:\\Users\\emgebrishvili\\AppData\\Local\\Programs\\Python\\Python310\\lib\\site-packages\\pymc\\step_methods\\compound.py\", line 231, in step\n    point, sts = method.step(point)\n  File \"C:\\Users\\emgebrishvili\\AppData\\Local\\Programs\\Python\\Python310\\lib\\site-packages\\pymc\\step_methods\\arraystep.py\", line 58, in step\n    apoint_new, stats = self.astep(apoint, *partial_funcs_and_point)\n  File \"C:\\Users\\emgebrishvili\\AppData\\Local\\Programs\\Python\\Python310\\lib\\site-packages\\pymc\\step_methods\\slicer.py\", line 108, in astep\n    while y <= logp(qr_ra):\n  File \"C:\\Users\\emgebrishvili\\AppData\\Local\\Programs\\Python\\Python310\\lib\\site-packages\\pymc\\blocking.py\", line 68, in __call__\n    return self.fa(self.fb(x))\n  File \"C:\\Users\\emgebrishvili\\AppData\\Local\\Programs\\Python\\Python310\\lib\\site-packages\\pymc\\pytensorf.py\", line 764, in __call__\n    return self.f(**state)\n  File \"C:\\Users\\emgebrishvili\\AppData\\Local\\Programs\\Python\\Python310\\lib\\site-packages\\pytensor\\compile\\function\\types.py\", line 970, in __call__\n    self.vm()\n  File \"C:\\Users\\emgebrishvili\\AppData\\Local\\Programs\\Python\\Python310\\lib\\site-packages\\pytensor\\link\\vm.py\", line 418, in __call__\n    raise_with_op(self.fgraph, node, thunk)\n  File \"C:\\Users\\emgebrishvili\\AppData\\Local\\Programs\\Python\\Python310\\lib\\site-packages\\pytensor\\link\\utils.py\", line 535, in raise_with_op\n    raise exc_value.with_traceback(exc_trace)\n  File \"C:\\Users\\emgebrishvili\\AppData\\Local\\Programs\\Python\\Python310\\lib\\site-packages\\pytensor\\link\\vm.py\", line 414, in __call__\n    thunk()\n  File \"C:\\Users\\emgebrishvili\\AppData\\Local\\Programs\\Python\\Python310\\lib\\site-packages\\pytensor\\graph\\op.py\", line 543, in rval\n    r = p(n, [x[0] for x in i], o)\n  File \"C:\\Users\\emgebrishvili\\AppData\\Local\\Temp\\ipykernel_25724\\2326442355.py\", line 35, in perform\n  File \"C:\\Users\\emgebrishvili\\AppData\\Local\\Programs\\Python\\Python310\\lib\\site-packages\\pandas\\core\\generic.py\", line 2113, in __array_ufunc__\n    return arraylike.array_ufunc(self, ufunc, method, *inputs, **kwargs)\n  File \"C:\\Users\\emgebrishvili\\AppData\\Local\\Programs\\Python\\Python310\\lib\\site-packages\\pandas\\core\\arraylike.py\", line 265, in array_ufunc\n    result = maybe_dispatch_ufunc_to_dunder_op(self, ufunc, method, *inputs, **kwargs)\n  File \"pandas\\_libs\\ops_dispatch.pyx\", line 113, in pandas._libs.ops_dispatch.maybe_dispatch_ufunc_to_dunder_op\n  File \"C:\\Users\\emgebrishvili\\AppData\\Local\\Programs\\Python\\Python310\\lib\\site-packages\\pandas\\core\\ops\\common.py\", line 72, in new_method\n    return method(self, other)\n  File \"C:\\Users\\emgebrishvili\\AppData\\Local\\Programs\\Python\\Python310\\lib\\site-packages\\pandas\\core\\arraylike.py\", line 114, in __rsub__\n    return self._arith_method(other, roperator.rsub)\n  File \"C:\\Users\\emgebrishvili\\AppData\\Local\\Programs\\Python\\Python310\\lib\\site-packages\\pandas\\core\\series.py\", line 6259, in _arith_method\n    return base.IndexOpsMixin._arith_method(self, other, op)\n  File \"C:\\Users\\emgebrishvili\\AppData\\Local\\Programs\\Python\\Python310\\lib\\site-packages\\pandas\\core\\base.py\", line 1325, in _arith_method\n    result = ops.arithmetic_op(lvalues, rvalues, op)\n  File \"C:\\Users\\emgebrishvili\\AppData\\Local\\Programs\\Python\\Python310\\lib\\site-packages\\pandas\\core\\ops\\array_ops.py\", line 226, in arithmetic_op\n    res_values = _na_arithmetic_op(left, right, op)  # type: ignore[arg-type]\n  File \"C:\\Users\\emgebrishvili\\AppData\\Local\\Programs\\Python\\Python310\\lib\\site-packages\\pandas\\core\\ops\\array_ops.py\", line 165, in _na_arithmetic_op\n    result = func(left, right)\n  File \"C:\\Users\\emgebrishvili\\AppData\\Local\\Programs\\Python\\Python310\\lib\\site-packages\\pandas\\core\\computation\\expressions.py\", line 241, in evaluate\n    return _evaluate(op, op_str, a, b)  # type: ignore[misc]\n  File \"C:\\Users\\emgebrishvili\\AppData\\Local\\Programs\\Python\\Python310\\lib\\site-packages\\pandas\\core\\computation\\expressions.py\", line 70, in _evaluate_standard\n    return op(a, b)\n  File \"C:\\Users\\emgebrishvili\\AppData\\Local\\Programs\\Python\\Python310\\lib\\site-packages\\pandas\\core\\roperator.py\", line 15, in rsub\n    return right - left\nValueError: operands could not be broadcast together with shapes (6,) (5,) \nApply node that caused the error: LogLike(MakeVector{dtype='float64'}.0)\nToposort index: 1\nInputs types: [TensorType(float64, (4,))]\nInputs shapes: [(4,)]\nInputs strides: [(8,)]\nInputs values: [array([-1.03863210e+05,  4.80534231e+01, -2.48108660e+05,  8.63348385e+01])]\nOutputs clients: [[MakeVector{dtype='float64'}(sigma > 0, sigma > 0, sigma > 0, sigma > 0, likelihood)]]\n\nBacktrace when the node is created (use PyTensor flag traceback__limit=N to make it longer):\n  File \"C:\\Users\\emgebrishvili\\AppData\\Local\\Programs\\Python\\Python310\\lib\\site-packages\\ipykernel\\zmqshell.py\", line 540, in run_cell\n    return super().run_cell(*args, **kwargs)\n  File \"C:\\Users\\emgebrishvili\\AppData\\Local\\Programs\\Python\\Python310\\lib\\site-packages\\IPython\\core\\interactiveshell.py\", line 2961, in run_cell\n    result = self._run_cell(\n  File \"C:\\Users\\emgebrishvili\\AppData\\Local\\Programs\\Python\\Python310\\lib\\site-packages\\IPython\\core\\interactiveshell.py\", line 3016, in _run_cell\n    result = runner(coro)\n  File \"C:\\Users\\emgebrishvili\\AppData\\Local\\Programs\\Python\\Python310\\lib\\site-packages\\IPython\\core\\async_helpers.py\", line 129, in _pseudo_sync_runner\n    coro.send(None)\n  File \"C:\\Users\\emgebrishvili\\AppData\\Local\\Programs\\Python\\Python310\\lib\\site-packages\\IPython\\core\\interactiveshell.py\", line 3221, in run_cell_async\n    has_raised = await self.run_ast_nodes(code_ast.body, cell_name,\n  File \"C:\\Users\\emgebrishvili\\AppData\\Local\\Programs\\Python\\Python310\\lib\\site-packages\\IPython\\core\\interactiveshell.py\", line 3400, in run_ast_nodes\n    if await self.run_code(code, result, async_=asy):\n  File \"C:\\Users\\emgebrishvili\\AppData\\Local\\Programs\\Python\\Python310\\lib\\site-packages\\IPython\\core\\interactiveshell.py\", line 3460, in run_code\n    exec(code_obj, self.user_global_ns, self.user_ns)\n  File \"C:\\Users\\emgebrishvili\\AppData\\Local\\Temp\\ipykernel_25724\\2380729586.py\", line 16, in <module>\n    likelihood = pm.Potential(\"likelihood\", logl(theta))\n\nHINT: Use the PyTensor flag `exception_verbosity=high` for a debug print-out and storage map footprint of this Apply node.\n\"\"\"",
      "\nThe above exception was the direct cause of the following exception:\n",
      "\u001b[1;31mValueError\u001b[0m                                Traceback (most recent call last)",
      "\u001b[1;31mValueError\u001b[0m: operands could not be broadcast together with shapes (6,) (5,) \nApply node that caused the error: LogLike(MakeVector{dtype='float64'}.0)\nToposort index: 1\nInputs types: [TensorType(float64, (4,))]\nInputs shapes: [(4,)]\nInputs strides: [(8,)]\nInputs values: [array([-1.03863210e+05,  4.80534231e+01, -2.48108660e+05,  8.63348385e+01])]\nOutputs clients: [[MakeVector{dtype='float64'}(sigma > 0, sigma > 0, sigma > 0, sigma > 0, likelihood)]]\n\nBacktrace when the node is created (use PyTensor flag traceback__limit=N to make it longer):\n  File \"C:\\Users\\emgebrishvili\\AppData\\Local\\Programs\\Python\\Python310\\lib\\site-packages\\ipykernel\\zmqshell.py\", line 540, in run_cell\n    return super().run_cell(*args, **kwargs)\n  File \"C:\\Users\\emgebrishvili\\AppData\\Local\\Programs\\Python\\Python310\\lib\\site-packages\\IPython\\core\\interactiveshell.py\", line 2961, in run_cell\n    result = self._run_cell(\n  File \"C:\\Users\\emgebrishvili\\AppData\\Local\\Programs\\Python\\Python310\\lib\\site-packages\\IPython\\core\\interactiveshell.py\", line 3016, in _run_cell\n    result = runner(coro)\n  File \"C:\\Users\\emgebrishvili\\AppData\\Local\\Programs\\Python\\Python310\\lib\\site-packages\\IPython\\core\\async_helpers.py\", line 129, in _pseudo_sync_runner\n    coro.send(None)\n  File \"C:\\Users\\emgebrishvili\\AppData\\Local\\Programs\\Python\\Python310\\lib\\site-packages\\IPython\\core\\interactiveshell.py\", line 3221, in run_cell_async\n    has_raised = await self.run_ast_nodes(code_ast.body, cell_name,\n  File \"C:\\Users\\emgebrishvili\\AppData\\Local\\Programs\\Python\\Python310\\lib\\site-packages\\IPython\\core\\interactiveshell.py\", line 3400, in run_ast_nodes\n    if await self.run_code(code, result, async_=asy):\n  File \"C:\\Users\\emgebrishvili\\AppData\\Local\\Programs\\Python\\Python310\\lib\\site-packages\\IPython\\core\\interactiveshell.py\", line 3460, in run_code\n    exec(code_obj, self.user_global_ns, self.user_ns)\n  File \"C:\\Users\\emgebrishvili\\AppData\\Local\\Temp\\ipykernel_25724\\2380729586.py\", line 16, in <module>\n    likelihood = pm.Potential(\"likelihood\", logl(theta))\n\nHINT: Use the PyTensor flag `exception_verbosity=high` for a debug print-out and storage map footprint of this Apply node.",
      "\nThe above exception was the direct cause of the following exception:\n",
      "\u001b[1;31mParallelSamplingError\u001b[0m                     Traceback (most recent call last)",
      "Cell \u001b[1;32mIn[6], line 18\u001b[0m\n\u001b[0;32m     14\u001b[0m theta \u001b[38;5;241m=\u001b[39m pt\u001b[38;5;241m.\u001b[39mas_tensor_variable([COCRCO_0, COCRCO_1, COCRCR_0, COCRCR_1])\n\u001b[0;32m     16\u001b[0m likelihood \u001b[38;5;241m=\u001b[39m pm\u001b[38;5;241m.\u001b[39mPotential(\u001b[38;5;124m\"\u001b[39m\u001b[38;5;124mlikelihood\u001b[39m\u001b[38;5;124m\"\u001b[39m, logl(theta))\n\u001b[1;32m---> 18\u001b[0m trace \u001b[38;5;241m=\u001b[39m \u001b[43mpm\u001b[49m\u001b[38;5;241;43m.\u001b[39;49m\u001b[43msample\u001b[49m\u001b[43m(\u001b[49m\u001b[43mdraws\u001b[49m\u001b[38;5;241;43m=\u001b[39;49m\u001b[38;5;241;43m600\u001b[39;49m\u001b[43m,\u001b[49m\u001b[43m \u001b[49m\u001b[43mtune\u001b[49m\u001b[38;5;241;43m=\u001b[39;49m\u001b[38;5;241;43m500\u001b[39;49m\u001b[43m,\u001b[49m\u001b[43m \u001b[49m\u001b[43midata_kwargs\u001b[49m\u001b[38;5;241;43m=\u001b[39;49m\u001b[43m{\u001b[49m\u001b[38;5;124;43m\"\u001b[39;49m\u001b[38;5;124;43mlog_likelihood\u001b[39;49m\u001b[38;5;124;43m\"\u001b[39;49m\u001b[43m:\u001b[49m\u001b[43m \u001b[49m\u001b[38;5;28;43;01mTrue\u001b[39;49;00m\u001b[43m}\u001b[49m\u001b[43m \u001b[49m\u001b[43m)\u001b[49m\n",
      "File \u001b[1;32m~\\AppData\\Local\\Programs\\Python\\Python310\\lib\\site-packages\\pymc\\sampling\\mcmc.py:677\u001b[0m, in \u001b[0;36msample\u001b[1;34m(draws, tune, chains, cores, random_seed, progressbar, step, nuts_sampler, initvals, init, jitter_max_retries, n_init, trace, discard_tuned_samples, compute_convergence_checks, keep_warning_stat, return_inferencedata, idata_kwargs, nuts_sampler_kwargs, callback, mp_ctx, model, **kwargs)\u001b[0m\n\u001b[0;32m    675\u001b[0m _print_step_hierarchy(step)\n\u001b[0;32m    676\u001b[0m \u001b[38;5;28;01mtry\u001b[39;00m:\n\u001b[1;32m--> 677\u001b[0m     _mp_sample(\u001b[38;5;241m*\u001b[39m\u001b[38;5;241m*\u001b[39msample_args, \u001b[38;5;241m*\u001b[39m\u001b[38;5;241m*\u001b[39mparallel_args)\n\u001b[0;32m    678\u001b[0m \u001b[38;5;28;01mexcept\u001b[39;00m pickle\u001b[38;5;241m.\u001b[39mPickleError:\n\u001b[0;32m    679\u001b[0m     _log\u001b[38;5;241m.\u001b[39mwarning(\u001b[38;5;124m\"\u001b[39m\u001b[38;5;124mCould not pickle model, sampling singlethreaded.\u001b[39m\u001b[38;5;124m\"\u001b[39m)\n",
      "File \u001b[1;32m~\\AppData\\Local\\Programs\\Python\\Python310\\lib\\site-packages\\pymc\\sampling\\mcmc.py:1066\u001b[0m, in \u001b[0;36m_mp_sample\u001b[1;34m(draws, tune, step, chains, cores, random_seed, start, progressbar, traces, model, callback, mp_ctx, **kwargs)\u001b[0m\n\u001b[0;32m   1064\u001b[0m \u001b[38;5;28;01mtry\u001b[39;00m:\n\u001b[0;32m   1065\u001b[0m     \u001b[38;5;28;01mwith\u001b[39;00m sampler:\n\u001b[1;32m-> 1066\u001b[0m         \u001b[38;5;28;01mfor\u001b[39;00m draw \u001b[38;5;129;01min\u001b[39;00m sampler:\n\u001b[0;32m   1067\u001b[0m             strace \u001b[38;5;241m=\u001b[39m traces[draw\u001b[38;5;241m.\u001b[39mchain]\n\u001b[0;32m   1068\u001b[0m             strace\u001b[38;5;241m.\u001b[39mrecord(draw\u001b[38;5;241m.\u001b[39mpoint, draw\u001b[38;5;241m.\u001b[39mstats)\n",
      "File \u001b[1;32m~\\AppData\\Local\\Programs\\Python\\Python310\\lib\\site-packages\\pymc\\sampling\\parallel.py:448\u001b[0m, in \u001b[0;36mParallelSampler.__iter__\u001b[1;34m(self)\u001b[0m\n\u001b[0;32m    445\u001b[0m     \u001b[38;5;28mself\u001b[39m\u001b[38;5;241m.\u001b[39m_progress\u001b[38;5;241m.\u001b[39mupdate(\u001b[38;5;28mself\u001b[39m\u001b[38;5;241m.\u001b[39m_total_draws)\n\u001b[0;32m    447\u001b[0m \u001b[38;5;28;01mwhile\u001b[39;00m \u001b[38;5;28mself\u001b[39m\u001b[38;5;241m.\u001b[39m_active:\n\u001b[1;32m--> 448\u001b[0m     draw \u001b[38;5;241m=\u001b[39m \u001b[43mProcessAdapter\u001b[49m\u001b[38;5;241;43m.\u001b[39;49m\u001b[43mrecv_draw\u001b[49m\u001b[43m(\u001b[49m\u001b[38;5;28;43mself\u001b[39;49m\u001b[38;5;241;43m.\u001b[39;49m\u001b[43m_active\u001b[49m\u001b[43m)\u001b[49m\n\u001b[0;32m    449\u001b[0m     proc, is_last, draw, tuning, stats \u001b[38;5;241m=\u001b[39m draw\n\u001b[0;32m    450\u001b[0m     \u001b[38;5;28mself\u001b[39m\u001b[38;5;241m.\u001b[39m_total_draws \u001b[38;5;241m+\u001b[39m\u001b[38;5;241m=\u001b[39m \u001b[38;5;241m1\u001b[39m\n",
      "File \u001b[1;32m~\\AppData\\Local\\Programs\\Python\\Python310\\lib\\site-packages\\pymc\\sampling\\parallel.py:330\u001b[0m, in \u001b[0;36mProcessAdapter.recv_draw\u001b[1;34m(processes, timeout)\u001b[0m\n\u001b[0;32m    328\u001b[0m     \u001b[38;5;28;01melse\u001b[39;00m:\n\u001b[0;32m    329\u001b[0m         error \u001b[38;5;241m=\u001b[39m \u001b[38;5;167;01mRuntimeError\u001b[39;00m(\u001b[38;5;124mf\u001b[39m\u001b[38;5;124m\"\u001b[39m\u001b[38;5;124mChain \u001b[39m\u001b[38;5;132;01m{\u001b[39;00mproc\u001b[38;5;241m.\u001b[39mchain\u001b[38;5;132;01m}\u001b[39;00m\u001b[38;5;124m failed.\u001b[39m\u001b[38;5;124m\"\u001b[39m)\n\u001b[1;32m--> 330\u001b[0m     \u001b[38;5;28;01mraise\u001b[39;00m error \u001b[38;5;28;01mfrom\u001b[39;00m \u001b[38;5;21;01mold_error\u001b[39;00m\n\u001b[0;32m    331\u001b[0m \u001b[38;5;28;01melif\u001b[39;00m msg[\u001b[38;5;241m0\u001b[39m] \u001b[38;5;241m==\u001b[39m \u001b[38;5;124m\"\u001b[39m\u001b[38;5;124mwriting_done\u001b[39m\u001b[38;5;124m\"\u001b[39m:\n\u001b[0;32m    332\u001b[0m     proc\u001b[38;5;241m.\u001b[39m_readable \u001b[38;5;241m=\u001b[39m \u001b[38;5;28;01mTrue\u001b[39;00m\n",
      "\u001b[1;31mParallelSamplingError\u001b[0m: Chain 3 failed with: operands could not be broadcast together with shapes (6,) (5,) \nApply node that caused the error: LogLike(MakeVector{dtype='float64'}.0)\nToposort index: 1\nInputs types: [TensorType(float64, (4,))]\nInputs shapes: [(4,)]\nInputs strides: [(8,)]\nInputs values: [array([-1.03863210e+05,  4.80534231e+01, -2.48108660e+05,  8.63348385e+01])]\nOutputs clients: [[MakeVector{dtype='float64'}(sigma > 0, sigma > 0, sigma > 0, sigma > 0, likelihood)]]\n\nBacktrace when the node is created (use PyTensor flag traceback__limit=N to make it longer):\n  File \"C:\\Users\\emgebrishvili\\AppData\\Local\\Programs\\Python\\Python310\\lib\\site-packages\\ipykernel\\zmqshell.py\", line 540, in run_cell\n    return super().run_cell(*args, **kwargs)\n  File \"C:\\Users\\emgebrishvili\\AppData\\Local\\Programs\\Python\\Python310\\lib\\site-packages\\IPython\\core\\interactiveshell.py\", line 2961, in run_cell\n    result = self._run_cell(\n  File \"C:\\Users\\emgebrishvili\\AppData\\Local\\Programs\\Python\\Python310\\lib\\site-packages\\IPython\\core\\interactiveshell.py\", line 3016, in _run_cell\n    result = runner(coro)\n  File \"C:\\Users\\emgebrishvili\\AppData\\Local\\Programs\\Python\\Python310\\lib\\site-packages\\IPython\\core\\async_helpers.py\", line 129, in _pseudo_sync_runner\n    coro.send(None)\n  File \"C:\\Users\\emgebrishvili\\AppData\\Local\\Programs\\Python\\Python310\\lib\\site-packages\\IPython\\core\\interactiveshell.py\", line 3221, in run_cell_async\n    has_raised = await self.run_ast_nodes(code_ast.body, cell_name,\n  File \"C:\\Users\\emgebrishvili\\AppData\\Local\\Programs\\Python\\Python310\\lib\\site-packages\\IPython\\core\\interactiveshell.py\", line 3400, in run_ast_nodes\n    if await self.run_code(code, result, async_=asy):\n  File \"C:\\Users\\emgebrishvili\\AppData\\Local\\Programs\\Python\\Python310\\lib\\site-packages\\IPython\\core\\interactiveshell.py\", line 3460, in run_code\n    exec(code_obj, self.user_global_ns, self.user_ns)\n  File \"C:\\Users\\emgebrishvili\\AppData\\Local\\Temp\\ipykernel_25724\\2380729586.py\", line 16, in <module>\n    likelihood = pm.Potential(\"likelihood\", logl(theta))\n\nHINT: Use the PyTensor flag `exception_verbosity=high` for a debug print-out and storage map footprint of this Apply node."
     ]
    }
   ],
   "source": [
    "pytensor.config.exception_verbosity = 'high' \n",
    "\n",
    "test_model = pm.Model()\n",
    "\n",
    "logl = LogLike(db10, conditions, phases, phase, elements, y_obs)\n",
    "\n",
    "with test_model:\n",
    "    # uniform priors on m and c\n",
    "    COCRCO_0 = pm.Normal(\"SIGMA_OLD_COCRCO_0\", mu=-103863.0, sigma=1)\n",
    "    COCRCO_1 = pm.Normal(\"SIGMA_OLD_COCRCO_1\", mu=47.47, sigma=1)\n",
    "    COCRCR_0 = pm.Normal(\"SIGMA_OLD_COCRCR_0\", mu=-248108.8, sigma=1)\n",
    "    COCRCR_1 = pm.Normal(\"SIGMA_OLD_COCRCR_1\", mu=79.12, sigma=1) \n",
    "    \n",
    "    theta = pt.as_tensor_variable([COCRCO_0, COCRCO_1, COCRCR_0, COCRCR_1])\n",
    "    \n",
    "    likelihood = pm.Potential(\"likelihood\", logl(theta))\n",
    "    \n",
    "    trace = pm.sample(draws=600, tune=500, idata_kwargs={\"log_likelihood\": True} )"
   ]
  },
  {
   "cell_type": "code",
   "execution_count": null,
   "id": "e509128e-6355-4fb7-bca1-a96293bfe075",
   "metadata": {
    "tags": []
   },
   "outputs": [],
   "source": [
    "likelihood.eval()"
   ]
  },
  {
   "cell_type": "code",
   "execution_count": null,
   "id": "60fde08d-a3b3-443c-b98c-5bf9e7335487",
   "metadata": {
    "tags": []
   },
   "outputs": [],
   "source": [
    "trace"
   ]
  },
  {
   "cell_type": "code",
   "execution_count": null,
   "id": "b913cbca-36cc-4042-a06a-167d444d49b2",
   "metadata": {
    "tags": []
   },
   "outputs": [],
   "source": [
    "with test_model_2:\n",
    "    az.plot_trace(trace)"
   ]
  }
 ],
 "metadata": {
  "kernelspec": {
   "display_name": "Python 3 (ipykernel)",
   "language": "python",
   "name": "python3"
  },
  "language_info": {
   "codemirror_mode": {
    "name": "ipython",
    "version": 3
   },
   "file_extension": ".py",
   "mimetype": "text/x-python",
   "name": "python",
   "nbconvert_exporter": "python",
   "pygments_lexer": "ipython3",
   "version": "3.10.10"
  }
 },
 "nbformat": 4,
 "nbformat_minor": 5
}
